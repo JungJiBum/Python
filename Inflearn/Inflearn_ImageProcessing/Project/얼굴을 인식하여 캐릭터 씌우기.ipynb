{
 "cells": [
  {
   "cell_type": "markdown",
   "metadata": {},
   "source": [
    "# 프로젝트 : 얼굴을 인식하여 캐릭터 씌우기"
   ]
  },
  {
   "cell_type": "markdown",
   "metadata": {},
   "source": [
    "## Face Detection vs Face Recognition"
   ]
  },
  {
   "cell_type": "markdown",
   "metadata": {},
   "source": [
    "패키지설치\n",
    "> pip install mediapipe"
   ]
  },
  {
   "cell_type": "code",
   "execution_count": null,
   "metadata": {},
   "outputs": [],
   "source": [
    "import cv2\n",
    "import mediapipe as mp\n",
    "\n",
    "\n",
    "# 얼굴을 찾고 찾은 얼굴에 표시를 해주기 위한 변수 정의\n",
    "mp_face_detection = mp.solutions.face_detection  # 얼굴 검출을 위한 face_detection 모듈 사용\n",
    "mp_drawing = mp.solutions.drawing_utils  # 얼굴의 특징을 그리기위한 drawing_utils 모듈 사용\n",
    "\n",
    "\n",
    "# For webcam input:\n",
    "# cap = cv2.VideoCapture(0)\n",
    "# 동영상 파일 열기\n",
    "cap = cv2.VideoCapture('face_video.mp4')\n",
    "\n",
    "# 이미지 불러오기\n",
    "image_right_eye = cv2.imread('right_eye.png')  # 100 X 100\n",
    "image_left_eye = cv2.imread('left_eye.png')  # 100 X 100\n",
    "image_nose = cv2.imread('nose.png')  # 300 X 100 (가로 X 세로)\n",
    "\n",
    "\n",
    "# model_selection > 2가지 중 하나를 고를 수 있음(0or1) 0은 카메라~2미터 근거리 1은 5미터이내의 얼굴에 적합\n",
    "# min_detection_confidence > 몇 퍼센트 정도되면 얼굴로 인식할것인지\n",
    "with mp_face_detection.FaceDetection(model_selection=0, min_detection_confidence=0.9) as face_detection:\n",
    "\n",
    "    while cap.isOpened():\n",
    "        success, image = cap.read()\n",
    "        if not success:\n",
    "            # continue\n",
    "            break\n",
    "\n",
    "        # To improve performance, optionally mark the image as not writeable to\n",
    "        # pass by reference.\n",
    "        image.flags.writeable = False\n",
    "        image = cv2.cvtColor(image, cv2.COLOR_BGR2RGB)\n",
    "        results = face_detection.process(image)\n",
    "\n",
    "        # Draw the face detection annotations on the image.\n",
    "        image.flags.writeable = True\n",
    "        image = cv2.cvtColor(image, cv2.COLOR_RGB2BGR)\n",
    "\n",
    "        if results.detections:\n",
    "            # 6개의 특징 : 오른 눈, 왼 눈, 코 끝, 입 중심, 오른 귀, 왼 귀\n",
    "            for detection in results.detections:\n",
    "                # mp_drawing.draw_detection(image, detection)\n",
    "                # print(detection)\n",
    "\n",
    "                # 특정 위치 가져오기\n",
    "                keypoints = detection.location_data.relative_keypoints\n",
    "                right_eye = keypoints[0]  # 오른 눈\n",
    "                left_eye = keypoints[1]  # 왼 눈\n",
    "                nose_tip = keypoints[2]  # 코\n",
    "\n",
    "                h, w, _ = image.shape  # height, width channel : 이미지로부터 세로,가로,크기 가져옴\n",
    "                right_eye = (int(right_eye.x * w), int(right_eye.y * h))\n",
    "                left_eye = (int(left_eye.x * w), int(left_eye.y * h))\n",
    "                nose_tip = (int(nose_tip.x * w), int(nose_tip.y * h))\n",
    "\n",
    "                # 양 눈에 동그라미 그리기\n",
    "                # cv2.circle(image, right_eye, 50, (255, 0, 0), 10, cv2.LINE_AA)  # 파란색\n",
    "                # cv2.circle(image, left_eye, 50, (0, 255, 0), 10, cv2.LINE_AA)  # 초록색\n",
    "                # # 코에 동그라미\n",
    "                # cv2.circle(image, nose_tip, 35, (0, 0, 255), 10, cv2.LINE_AA) # 빨간색\n",
    "\n",
    "                # 각 특징에다 이미지 그리기\n",
    "                image[right_eye[1]-50 : right_eye[1]+50, right_eye[0]-50 : right_eye[0]+50] = image_right_eye\n",
    "                image[left_eye[1]-50 : left_eye[1]+50, left_eye[0]-50 : left_eye[0]+50] = image_left_eye\n",
    "                image[nose_tip[1]-50 : nose_tip[1]+50, nose_tip[0]-150 : nose_tip[0]+150] = image_nose\n",
    "\n",
    "\n",
    "        # Flip the image horizontally for a selfie-view display.\n",
    "        # cv2.imshow('MediaPipe Face Detection', cv2.flip(image, 1))\n",
    "        cv2.imshow('MediaPipe Face Detection',cv2.resize(image, None, fx=0.5, fy=0.5))\n",
    "\n",
    "        # if cv2.waitKey(5) & 0xFF == 27:\n",
    "        if cv2.waitKey(1) == ord('q'):\n",
    "            break\n",
    "cap.release()\n",
    "cv2.destroyAllWindows()\n"
   ]
  },
  {
   "cell_type": "markdown",
   "metadata": {},
   "source": [
    "> https://opencv-python.readthedocs.io/en/latest/\n",
    "참고자료\n"
   ]
  }
 ],
 "metadata": {
  "kernelspec": {
   "display_name": "Python 3.10.3 64-bit",
   "language": "python",
   "name": "python3"
  },
  "language_info": {
   "codemirror_mode": {
    "name": "ipython",
    "version": 3
   },
   "file_extension": ".py",
   "mimetype": "text/x-python",
   "name": "python",
   "nbconvert_exporter": "python",
   "pygments_lexer": "ipython3",
   "version": "3.10.3"
  },
  "orig_nbformat": 4,
  "vscode": {
   "interpreter": {
    "hash": "38b97b5e4081b89d365af18cf2408a2f23fda591f39aba7cd12ad3eafafdc223"
   }
  }
 },
 "nbformat": 4,
 "nbformat_minor": 2
}
