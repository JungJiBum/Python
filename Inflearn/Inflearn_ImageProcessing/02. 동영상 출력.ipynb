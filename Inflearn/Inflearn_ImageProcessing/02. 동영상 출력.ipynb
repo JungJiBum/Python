{
 "cells": [
  {
   "cell_type": "markdown",
   "metadata": {},
   "source": [
    "# 2. 동영상 출력\n"
   ]
  },
  {
   "cell_type": "markdown",
   "metadata": {},
   "source": [
    "### 동영상 파일 출력"
   ]
  },
  {
   "cell_type": "code",
   "execution_count": 1,
   "metadata": {},
   "outputs": [
    {
     "ename": "KeyboardInterrupt",
     "evalue": "",
     "output_type": "error",
     "traceback": [
      "\u001b[1;31m---------------------------------------------------------------------------\u001b[0m",
      "\u001b[1;31mKeyboardInterrupt\u001b[0m                         Traceback (most recent call last)",
      "\u001b[1;32mc:\\Users\\tec\\Desktop\\python\\Python\\Inflearn\\Inflearn_ImageProcessing\\02. 동영상 출력.ipynb 셀 3\u001b[0m in \u001b[0;36m<cell line: 4>\u001b[1;34m()\u001b[0m\n\u001b[0;32m      <a href='vscode-notebook-cell:/c%3A/Users/tec/Desktop/python/Python/Inflearn/Inflearn_ImageProcessing/02.%20%EB%8F%99%EC%98%81%EC%83%81%20%EC%B6%9C%EB%A0%A5.ipynb#W2sZmlsZQ%3D%3D?line=7'>8</a>\u001b[0m     \u001b[39mbreak\u001b[39;00m\n\u001b[0;32m     <a href='vscode-notebook-cell:/c%3A/Users/tec/Desktop/python/Python/Inflearn/Inflearn_ImageProcessing/02.%20%EB%8F%99%EC%98%81%EC%83%81%20%EC%B6%9C%EB%A0%A5.ipynb#W2sZmlsZQ%3D%3D?line=9'>10</a>\u001b[0m cv2\u001b[39m.\u001b[39mimshow(\u001b[39m'\u001b[39m\u001b[39mvideo\u001b[39m\u001b[39m'\u001b[39m,frame)\n\u001b[1;32m---> <a href='vscode-notebook-cell:/c%3A/Users/tec/Desktop/python/Python/Inflearn/Inflearn_ImageProcessing/02.%20%EB%8F%99%EC%98%81%EC%83%81%20%EC%B6%9C%EB%A0%A5.ipynb#W2sZmlsZQ%3D%3D?line=11'>12</a>\u001b[0m \u001b[39mif\u001b[39;00m cv2\u001b[39m.\u001b[39;49mwaitKey(\u001b[39m25\u001b[39;49m) \u001b[39m==\u001b[39m \u001b[39mord\u001b[39m(\u001b[39m'\u001b[39m\u001b[39mq\u001b[39m\u001b[39m'\u001b[39m):\n\u001b[0;32m     <a href='vscode-notebook-cell:/c%3A/Users/tec/Desktop/python/Python/Inflearn/Inflearn_ImageProcessing/02.%20%EB%8F%99%EC%98%81%EC%83%81%20%EC%B6%9C%EB%A0%A5.ipynb#W2sZmlsZQ%3D%3D?line=12'>13</a>\u001b[0m     \u001b[39mprint\u001b[39m(\u001b[39m\"\u001b[39m\u001b[39m사용자 입력에 의해 종료한다.\u001b[39m\u001b[39m\"\u001b[39m)\n\u001b[0;32m     <a href='vscode-notebook-cell:/c%3A/Users/tec/Desktop/python/Python/Inflearn/Inflearn_ImageProcessing/02.%20%EB%8F%99%EC%98%81%EC%83%81%20%EC%B6%9C%EB%A0%A5.ipynb#W2sZmlsZQ%3D%3D?line=13'>14</a>\u001b[0m     \u001b[39mbreak\u001b[39;00m\n",
      "\u001b[1;31mKeyboardInterrupt\u001b[0m: "
     ]
    }
   ],
   "source": [
    "import cv2\n",
    "cap = cv2.VideoCapture('video.mp4')\n",
    "\n",
    "while cap.isOpened(): # 동영상 파일이 올바로 열렸는지?\n",
    "    ret, frame = cap.read() # ret : 성공 여부, frame : 받아온 이미지(프레임)\n",
    "    if not ret:\n",
    "        print(\"더이상 가져올 프레임이 없다.\")\n",
    "        break\n",
    "\n",
    "    cv2.imshow('video',frame)\n",
    "\n",
    "    if cv2.waitKey(25) == ord('q'):\n",
    "        print(\"사용자 입력에 의해 종료한다.\")\n",
    "        break\n",
    "\n",
    "cap.release() # 자원 해제\n",
    "cv2.destroyAllWindows() # 모든 창 닫기"
   ]
  },
  {
   "cell_type": "markdown",
   "metadata": {},
   "source": [
    "## 카메라 출력"
   ]
  },
  {
   "cell_type": "code",
   "execution_count": 2,
   "metadata": {},
   "outputs": [],
   "source": [
    "import cv2\n",
    "cap = cv2.VideoCapture(0) # 0번째 카메라 장치(Device ID)\n",
    "\n",
    "if not cap.isOpened(): # 카메라가 잘 열리지 않은 경우\n",
    "    exit() # 프로그램 종료\n",
    "\n",
    "while True:\n",
    "    ret, frame = cap.read()\n",
    "    if not ret:\n",
    "        break\n",
    "\n",
    "    cv2.imshow('camera',frame)\n",
    "    if cv2.waitKey(1) == ord('q'): # 사용자가 q를 입력하면\n",
    "        break\n",
    "\n",
    "cap.release()\n",
    "cv2.destroyAllWindows()\n"
   ]
  },
  {
   "cell_type": "code",
   "execution_count": null,
   "metadata": {},
   "outputs": [],
   "source": []
  }
 ],
 "metadata": {
  "kernelspec": {
   "display_name": "Python 3.10.3 64-bit",
   "language": "python",
   "name": "python3"
  },
  "language_info": {
   "codemirror_mode": {
    "name": "ipython",
    "version": 3
   },
   "file_extension": ".py",
   "mimetype": "text/x-python",
   "name": "python",
   "nbconvert_exporter": "python",
   "pygments_lexer": "ipython3",
   "version": "3.10.3"
  },
  "orig_nbformat": 4,
  "vscode": {
   "interpreter": {
    "hash": "38b97b5e4081b89d365af18cf2408a2f23fda591f39aba7cd12ad3eafafdc223"
   }
  }
 },
 "nbformat": 4,
 "nbformat_minor": 2
}
