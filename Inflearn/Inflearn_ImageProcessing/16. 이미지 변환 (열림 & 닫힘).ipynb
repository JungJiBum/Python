{
 "cells": [
  {
   "cell_type": "markdown",
   "metadata": {},
   "source": [
    "# 이미지 변환 (열림 & 닫힘)"
   ]
  },
  {
   "cell_type": "markdown",
   "metadata": {},
   "source": [
    "## 열림 (Opening) : 침식 후 팽창. 깎아서 노이즈 제거 후 살 찌움\n",
    "> dilate(erode(image))"
   ]
  },
  {
   "cell_type": "code",
   "execution_count": 5,
   "metadata": {},
   "outputs": [],
   "source": [
    "import cv2\n",
    "import numpy as np\n",
    "kernel = np.ones((3, 3), dtype=np.uint8)\n",
    "\n",
    "img = cv2.imread('erode.png', cv2.IMREAD_GRAYSCALE)\n",
    "\n",
    "erode = cv2.erode(img, kernel, iterations=3)\n",
    "dilate = cv2.dilate(erode, kernel, iterations=3)\n",
    "\n",
    "\n",
    "cv2.imshow('img', img)\n",
    "cv2.imshow('erode',erode)\n",
    "cv2.imshow('dilate',dilate)\n",
    "cv2.waitKey(0)\n",
    "cv2.destroyAllWindows()\n"
   ]
  },
  {
   "cell_type": "markdown",
   "metadata": {},
   "source": [
    "## 닫힘 (Closing) : 팽창 후 침식. 구멍을 메운 후 다시 깎음\n",
    "> erode(dilate(image))"
   ]
  },
  {
   "cell_type": "code",
   "execution_count": 9,
   "metadata": {},
   "outputs": [],
   "source": [
    "import cv2\n",
    "import numpy as np\n",
    "kernel = np.ones((3, 3), dtype=np.uint8)\n",
    "\n",
    "img = cv2.imread('dilate.png', cv2.IMREAD_GRAYSCALE)\n",
    "\n",
    "dilate = cv2.dilate(img, kernel, iterations=3)\n",
    "erode = cv2.erode(dilate, kernel, iterations=3)\n",
    "\n",
    "\n",
    "\n",
    "cv2.imshow('img', img)\n",
    "cv2.imshow('dilate',dilate)\n",
    "cv2.imshow('erode',erode)\n",
    "cv2.waitKey(0)\n",
    "cv2.destroyAllWindows()\n"
   ]
  }
 ],
 "metadata": {
  "kernelspec": {
   "display_name": "Python 3.10.3 64-bit",
   "language": "python",
   "name": "python3"
  },
  "language_info": {
   "codemirror_mode": {
    "name": "ipython",
    "version": 3
   },
   "file_extension": ".py",
   "mimetype": "text/x-python",
   "name": "python",
   "nbconvert_exporter": "python",
   "pygments_lexer": "ipython3",
   "version": "3.10.3"
  },
  "orig_nbformat": 4,
  "vscode": {
   "interpreter": {
    "hash": "38b97b5e4081b89d365af18cf2408a2f23fda591f39aba7cd12ad3eafafdc223"
   }
  }
 },
 "nbformat": 4,
 "nbformat_minor": 2
}
