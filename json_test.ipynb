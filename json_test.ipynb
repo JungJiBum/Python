{
 "cells": [
  {
   "cell_type": "code",
   "execution_count": 2,
   "metadata": {},
   "outputs": [],
   "source": [
    "import json"
   ]
  },
  {
   "cell_type": "code",
   "execution_count": 3,
   "metadata": {},
   "outputs": [
    {
     "name": "stdout",
     "output_type": "stream",
     "text": [
      "{\"name\":\"BOB\",\"age\":30} <class 'str'>\n"
     ]
    }
   ],
   "source": [
    "sample_json = '{\"name\":\"BOB\",\"age\":30}'\n",
    "print(sample_json,type(sample_json))\n"
   ]
  },
  {
   "cell_type": "code",
   "execution_count": 4,
   "metadata": {},
   "outputs": [
    {
     "name": "stdout",
     "output_type": "stream",
     "text": [
      "{'name': 'BOB', 'age': 30} <class 'dict'>\n",
      "BOB,30\n"
     ]
    },
    {
     "data": {
      "text/plain": [
       "'\\njson을 사용하기 때문에 json 라이브러리에서 loads 함수를 이용\\nloads함수는 sampel_json에서 JSON 데이터를 로드하고 변수 데이터에 할당하는 역할을 함\\n'"
      ]
     },
     "execution_count": 4,
     "metadata": {},
     "output_type": "execute_result"
    }
   ],
   "source": [
    "data = json.loads(sample_json)\n",
    "print(data, type(data))\n",
    "print(f'{data[\"name\"]},{data[\"age\"]}')\n",
    "'''\n",
    "json을 사용하기 때문에 json 라이브러리에서 loads 함수를 이용\n",
    "loads함수는 sampel_json에서 JSON 데이터를 로드하고 변수 데이터에 할당하는 역할을 함\n",
    "'''"
   ]
  },
  {
   "cell_type": "code",
   "execution_count": 5,
   "metadata": {},
   "outputs": [],
   "source": [
    "''' JSON을 딕셔너리로 사용하는 스크립트를 만든 후 형식미지정, 형식 지정 결과를 출력하는 방법'''\n",
    "myDict = {\n",
    "    \"name\" : \"BOB\",\n",
    "    \"job_title\" : \"programmer\",\n",
    "    \"company_name\" : \"TFO\",\n",
    "    \"speciality\" : \"MACos\",\n",
    "    \"emails\" : [{\"email\":\"???@example.com\",\"type\":\"work\"}],\n",
    "    \"my_neighbor\":False\n",
    "}"
   ]
  },
  {
   "cell_type": "code",
   "execution_count": 6,
   "metadata": {},
   "outputs": [],
   "source": [
    "unformattedJson = json.dumps(myDict)\n",
    "# JSON의 dumps 함수를 사용한다."
   ]
  },
  {
   "cell_type": "code",
   "execution_count": 7,
   "metadata": {},
   "outputs": [
    {
     "name": "stdout",
     "output_type": "stream",
     "text": [
      "{\"name\": \"BOB\", \"job_title\": \"programmer\", \"company_name\": \"TFO\", \"speciality\": \"MACos\", \"emails\": [{\"email\": \"???@example.com\", \"type\": \"work\"}], \"my_neighbor\": false}\n",
      "<class 'str'>\n"
     ]
    },
    {
     "data": {
      "text/plain": [
       "'\\n형식 미지정이라 텍스트를 출력하는 대신 실제로 더 표준적인 JSON 형식으로 출력할 수 있다. myDict 구문 아래 다음과 같은 섹션을 추가해야한다.\\n'"
      ]
     },
     "execution_count": 7,
     "metadata": {},
     "output_type": "execute_result"
    }
   ],
   "source": [
    "print(unformattedJson)\n",
    "print(type(unformattedJson))\n",
    "'''\n",
    "형식 미지정이라 텍스트를 출력하는 대신 실제로 더 표준적인 JSON 형식으로 출력할 수 있다. myDict 구문 아래 다음과 같은 섹션을 추가해야한다.\n",
    "'''"
   ]
  },
  {
   "cell_type": "code",
   "execution_count": 8,
   "metadata": {},
   "outputs": [
    {
     "data": {
      "text/plain": [
       "'\\nJSON 덤프기능을 사용한 후\\n들여쓰기 및 큰 따옴표 구분 기호로 myDict 형식 지정,\\nformattedJson 변수에 할당하는 동안 key를 기준으로 출력 딕셔너리 정렬\\n\\n'"
      ]
     },
     "execution_count": 8,
     "metadata": {},
     "output_type": "execute_result"
    }
   ],
   "source": [
    "formattedJson = json.dumps(myDict,indent=4,separators=(\",\",\"=\"),sort_keys=True)\n",
    "'''\n",
    "JSON 덤프기능을 사용한 후\n",
    "들여쓰기 및 큰 따옴표 구분 기호로 myDict 형식 지정,\n",
    "formattedJson 변수에 할당하는 동안 key를 기준으로 출력 딕셔너리 정렬\n",
    "\n",
    "'''"
   ]
  },
  {
   "cell_type": "code",
   "execution_count": 9,
   "metadata": {},
   "outputs": [
    {
     "name": "stdout",
     "output_type": "stream",
     "text": [
      "{\n",
      "    \"company_name\"=\"TFO\",\n",
      "    \"emails\"=[\n",
      "        {\n",
      "            \"email\"=\"???@example.com\",\n",
      "            \"type\"=\"work\"\n",
      "        }\n",
      "    ],\n",
      "    \"job_title\"=\"programmer\",\n",
      "    \"my_neighbor\"=false,\n",
      "    \"name\"=\"BOB\",\n",
      "    \"speciality\"=\"MACos\"\n",
      "}\n",
      "<class 'str'>\n"
     ]
    }
   ],
   "source": [
    "print(formattedJson)\n",
    "print(type(formattedJson))"
   ]
  },
  {
   "cell_type": "code",
   "execution_count": 13,
   "metadata": {},
   "outputs": [
    {
     "name": "stdout",
     "output_type": "stream",
     "text": [
      "{'userId': 1, 'firstName': 'AAAAA', 'lastName': 'as23', 'phoneNumber': '123456', 'emailAddress': 'AAAAA@test.com', 'homepage': 'https://amogg.tistory.com/1'} <class 'dict'>\n",
      "{'userId': 2, 'firstName': 'BBBB', 'lastName': 'h5jdd', 'phoneNumber': '123456', 'homepage': 'https://amogg.tistory.com/2'} <class 'dict'>\n",
      "{'userId': 3, 'firstName': 'CCCCC', 'lastName': '2dhbs', 'phoneNumber': '33333333', 'homepage': 'https://amogg.tistory.com/3'} <class 'dict'>\n",
      "{'userId': 4, 'firstName': 'DDDDD', 'lastName': 'bacasd', 'phoneNumber': '222222222', 'homepage': 'https://amogg.tistory.com/4'} <class 'dict'>\n",
      "{'userId': 5, 'firstName': 'EEEEE', 'lastName': 'asdfasdf', 'phoneNumber': '111111111', 'homepage': 'https://amogg.tistory.com/5'} <class 'dict'>\n"
     ]
    }
   ],
   "source": [
    "''' JSON 형식 파일을 읽어보자. '''\n",
    "\n",
    "f = open(\"sample.json\") # 해당 json 파일은 \n",
    "data = json.load(f)\n",
    "\n",
    "for i in data['users']:\n",
    "    print(i,type(i))\n",
    "\n",
    "f.close()"
   ]
  },
  {
   "cell_type": "code",
   "execution_count": null,
   "metadata": {},
   "outputs": [],
   "source": []
  }
 ],
 "metadata": {
  "kernelspec": {
   "display_name": "Python 3",
   "language": "python",
   "name": "python3"
  },
  "language_info": {
   "codemirror_mode": {
    "name": "ipython",
    "version": 3
   },
   "file_extension": ".py",
   "mimetype": "text/x-python",
   "name": "python",
   "nbconvert_exporter": "python",
   "pygments_lexer": "ipython3",
   "version": "3.10.3"
  },
  "orig_nbformat": 4,
  "vscode": {
   "interpreter": {
    "hash": "38b97b5e4081b89d365af18cf2408a2f23fda591f39aba7cd12ad3eafafdc223"
   }
  }
 },
 "nbformat": 4,
 "nbformat_minor": 2
}
