{
 "cells": [
  {
   "cell_type": "code",
   "execution_count": 11,
   "metadata": {},
   "outputs": [],
   "source": [
    "s1=[\"a\",\"b\",\"c\"]\n",
    "s2=[\"com\",\"b\",\"d\",\"p\",\"c\"]"
   ]
  },
  {
   "cell_type": "code",
   "execution_count": 12,
   "metadata": {},
   "outputs": [],
   "source": [
    "def solution(s1,s2):\n",
    "    return len(set(s1).intersection(s2))"
   ]
  },
  {
   "cell_type": "code",
   "execution_count": 13,
   "metadata": {},
   "outputs": [
    {
     "data": {
      "text/plain": [
       "2"
      ]
     },
     "execution_count": 13,
     "metadata": {},
     "output_type": "execute_result"
    }
   ],
   "source": [
    "solution(s1,s2)"
   ]
  },
  {
   "cell_type": "code",
   "execution_count": 16,
   "metadata": {},
   "outputs": [
    {
     "name": "stdout",
     "output_type": "stream",
     "text": [
      "{'a', 'b', 'c'}\n",
      "{'com', 'b', 'c', 'p', 'd'}\n",
      "{'b', 'c'}\n",
      "{'b', 'c'}\n"
     ]
    }
   ],
   "source": [
    "print(set(s1))\n",
    "print(set(s2))\n",
    "print(set(s1).intersection(s2))\n",
    "print(set(s2).intersection(s1))"
   ]
  },
  {
   "cell_type": "code",
   "execution_count": 26,
   "metadata": {},
   "outputs": [
    {
     "name": "stdout",
     "output_type": "stream",
     "text": [
      "12392 <class 'str'>\n"
     ]
    }
   ],
   "source": [
    "import re\n",
    "str=\"hi12392\"\n",
    "# numbers=re.findall(r'\\d',str)\n",
    "numbers=re.sub(r'[^0-9]','',str)\n",
    "print(numbers,type(numbers))\n"
   ]
  }
 ],
 "metadata": {
  "kernelspec": {
   "display_name": "Python 3.10.3 64-bit",
   "language": "python",
   "name": "python3"
  },
  "language_info": {
   "codemirror_mode": {
    "name": "ipython",
    "version": 3
   },
   "file_extension": ".py",
   "mimetype": "text/x-python",
   "name": "python",
   "nbconvert_exporter": "python",
   "pygments_lexer": "ipython3",
   "version": "3.10.3"
  },
  "orig_nbformat": 4,
  "vscode": {
   "interpreter": {
    "hash": "38b97b5e4081b89d365af18cf2408a2f23fda591f39aba7cd12ad3eafafdc223"
   }
  }
 },
 "nbformat": 4,
 "nbformat_minor": 2
}
