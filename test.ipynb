{
 "cells": [
  {
   "cell_type": "code",
   "execution_count": 1,
   "metadata": {},
   "outputs": [],
   "source": [
    "s1=[\"a\",\"b\",\"c\"]\n",
    "s2=[\"com\",\"b\",\"d\",\"p\",\"c\"]"
   ]
  },
  {
   "cell_type": "code",
   "execution_count": 2,
   "metadata": {},
   "outputs": [],
   "source": [
    "def solution(s1,s2):\n",
    "    return len(set(s1).intersection(s2))"
   ]
  },
  {
   "cell_type": "code",
   "execution_count": 3,
   "metadata": {},
   "outputs": [
    {
     "data": {
      "text/plain": [
       "2"
      ]
     },
     "execution_count": 3,
     "metadata": {},
     "output_type": "execute_result"
    }
   ],
   "source": [
    "solution(s1,s2)"
   ]
  },
  {
   "cell_type": "code",
   "execution_count": 16,
   "metadata": {},
   "outputs": [
    {
     "name": "stdout",
     "output_type": "stream",
     "text": [
      "{'a', 'b', 'c'}\n",
      "{'com', 'b', 'c', 'p', 'd'}\n",
      "{'b', 'c'}\n",
      "{'b', 'c'}\n"
     ]
    }
   ],
   "source": [
    "print(set(s1))\n",
    "print(set(s2))\n",
    "print(set(s1).intersection(s2))\n",
    "print(set(s2).intersection(s1))"
   ]
  },
  {
   "cell_type": "code",
   "execution_count": 1,
   "metadata": {},
   "outputs": [
    {
     "ename": "TypeError",
     "evalue": "set expected at most 1 argument, got 2",
     "output_type": "error",
     "traceback": [
      "\u001b[1;31m---------------------------------------------------------------------------\u001b[0m",
      "\u001b[1;31mTypeError\u001b[0m                                 Traceback (most recent call last)",
      "\u001b[1;32mc:\\Users\\tec\\Desktop\\python\\Python\\test.ipynb Cell 5\u001b[0m in \u001b[0;36m<cell line: 4>\u001b[1;34m()\u001b[0m\n\u001b[0;32m      <a href='vscode-notebook-cell:/c%3A/Users/tec/Desktop/python/Python/test.ipynb#X44sZmlsZQ%3D%3D?line=1'>2</a>\u001b[0m s2 \u001b[39m=\u001b[39m [\u001b[39m1\u001b[39m,\u001b[39m3\u001b[39m,\u001b[39m5\u001b[39m,\u001b[39m7\u001b[39m,\u001b[39m9\u001b[39m]\n\u001b[0;32m      <a href='vscode-notebook-cell:/c%3A/Users/tec/Desktop/python/Python/test.ipynb#X44sZmlsZQ%3D%3D?line=2'>3</a>\u001b[0m s3 \u001b[39m=\u001b[39m [\u001b[39m2\u001b[39m,\u001b[39m4\u001b[39m,\u001b[39m6\u001b[39m,\u001b[39m8\u001b[39m,\u001b[39m10\u001b[39m]\n\u001b[1;32m----> <a href='vscode-notebook-cell:/c%3A/Users/tec/Desktop/python/Python/test.ipynb#X44sZmlsZQ%3D%3D?line=3'>4</a>\u001b[0m \u001b[39mprint\u001b[39m(\u001b[39mset\u001b[39;49m(s1,s2))\n",
      "\u001b[1;31mTypeError\u001b[0m: set expected at most 1 argument, got 2"
     ]
    }
   ],
   "source": [
    "s1 = [1,2,3,4,5,6,7,8,9,10]\n",
    "s2 = [1,3,5,7,9]\n",
    "s3 = [2,4,6,8,10]\n",
    "print(set(s1,s2))"
   ]
  },
  {
   "cell_type": "code",
   "execution_count": 26,
   "metadata": {},
   "outputs": [
    {
     "name": "stdout",
     "output_type": "stream",
     "text": [
      "12392 <class 'str'>\n"
     ]
    }
   ],
   "source": [
    "import re\n",
    "str=\"hi12392\"\n",
    "# numbers=re.findall(r'\\d',str)\n",
    "numbers=re.sub(r'[^0-9]','',str)\n",
    "print(numbers,type(numbers))\n"
   ]
  },
  {
   "cell_type": "code",
   "execution_count": 1,
   "metadata": {},
   "outputs": [
    {
     "name": "stdout",
     "output_type": "stream",
     "text": [
      "0 a\n",
      "1 b\n",
      "2 c\n",
      "3 d\n",
      "4 e\n",
      "5 f\n",
      "6 g\n",
      "7 h\n",
      "8 i\n",
      "9 j\n",
      "10 k\n",
      "11 l\n",
      "12 m\n",
      "13 n\n",
      "14 o\n"
     ]
    }
   ],
   "source": [
    "ls = ['a','b','c','d','e','f','g','h','i','j','k','l','m','n','o']\n",
    "\n",
    "for i, data in enumerate(ls):\n",
    "    print(i, data)"
   ]
  },
  {
   "cell_type": "code",
   "execution_count": 1,
   "metadata": {},
   "outputs": [],
   "source": [
    "def fn(a):\n",
    "    return a\n",
    "\n",
    "def fn1(a :int) -> bool:\n",
    "    return a"
   ]
  },
  {
   "cell_type": "code",
   "execution_count": 2,
   "metadata": {},
   "outputs": [
    {
     "ename": "NameError",
     "evalue": "name 'original' is not defined",
     "output_type": "error",
     "traceback": [
      "\u001b[1;31m---------------------------------------------------------------------------\u001b[0m",
      "\u001b[1;31mNameError\u001b[0m                                 Traceback (most recent call last)",
      "\u001b[1;32mc:\\Users\\tec\\Desktop\\python\\Python\\test.ipynb 셀 8\u001b[0m in \u001b[0;36m<cell line: 1>\u001b[1;34m()\u001b[0m\n\u001b[1;32m----> <a href='vscode-notebook-cell:/c%3A/Users/tec/Desktop/python/Python/test.ipynb#X10sZmlsZQ%3D%3D?line=0'>1</a>\u001b[0m a \u001b[39m=\u001b[39m {k:v \u001b[39mfor\u001b[39;00m k,v \u001b[39min\u001b[39;00m original\u001b[39m.\u001b[39mitems()}\n",
      "\u001b[1;31mNameError\u001b[0m: name 'original' is not defined"
     ]
    }
   ],
   "source": [
    "a = {k:v for k,v in original.items()}"
   ]
  },
  {
   "cell_type": "code",
   "execution_count": 5,
   "metadata": {},
   "outputs": [],
   "source": [
    "a = [i for i in range(10000)]\n",
    "b = range(10000)"
   ]
  },
  {
   "cell_type": "code",
   "execution_count": 10,
   "metadata": {},
   "outputs": [
    {
     "name": "stdout",
     "output_type": "stream",
     "text": [
      "85176\n",
      "48\n"
     ]
    }
   ],
   "source": [
    "print(sys.getsizeof(a))\n",
    "print(sys.getsizeof(b))\n"
   ]
  },
  {
   "cell_type": "code",
   "execution_count": 31,
   "metadata": {},
   "outputs": [
    {
     "name": "stdout",
     "output_type": "stream",
     "text": [
      "873211\n"
     ]
    }
   ],
   "source": [
    "def solution(n):\n",
    "    answer = str(n)\n",
    "    a = list(answer)\n",
    "    a.sort(reverse=True)\n",
    "    a = \"\".join(a)\n",
    "    \n",
    "    return a\n",
    "    \n",
    "\n",
    "\n",
    "\n",
    "\n",
    "n = 118372\n",
    "print(solution(n))"
   ]
  },
  {
   "cell_type": "code",
   "execution_count": 34,
   "metadata": {},
   "outputs": [
    {
     "name": "stdout",
     "output_type": "stream",
     "text": [
      "3\n",
      "11\n"
     ]
    }
   ],
   "source": [
    "def sol(n):\n",
    "    t=1\n",
    "    while True:\n",
    "        if n % t ==1:\n",
    "            print(t)\n",
    "            break\n",
    "        t+=1\n",
    "\n",
    "sol(10)\n",
    "sol(12)"
   ]
  },
  {
   "cell_type": "markdown",
   "metadata": {},
   "source": []
  },
  {
   "cell_type": "code",
   "execution_count": 1,
   "metadata": {},
   "outputs": [
    {
     "name": "stdout",
     "output_type": "stream",
     "text": [
      "1~ 5까지 합은 15\n"
     ]
    }
   ],
   "source": [
    "def add(num):\n",
    "    sum=0\n",
    "    for i in range(1, num+1,1):\n",
    "        sum = sum+i\n",
    "    return sum\n",
    "\n",
    "num = int(input())\n",
    "res = add(num)\n",
    "print(\"1~ {}까지 합은 {}\".format(num,res))"
   ]
  },
  {
   "cell_type": "code",
   "execution_count": 3,
   "metadata": {},
   "outputs": [
    {
     "name": "stdout",
     "output_type": "stream",
     "text": [
      "I'm boy\n",
      "Python is easy\n",
      "I'm boy, and Python is easy\n",
      "\n",
      "아마 이건 출력이 될거같네요.\n",
      "아마도?\n",
      "\n"
     ]
    }
   ],
   "source": [
    "text=  \"I'm boy\"\n",
    "text1 = \"Python is easy\"\n",
    "text2 = '''I'm boy, and Python is easy'''\n",
    "'''이건 과연 출력이될까'''\n",
    "'''\n",
    "이건?\n",
    "이건?\n",
    "이건?\n",
    "'''\n",
    "text3 = '''\n",
    "아마 이건 출력이 될거같네요.\n",
    "아마도?\n",
    "'''\n",
    "\n",
    "print(text)\n",
    "print(text1)\n",
    "print(text2)\n",
    "print(text3)"
   ]
  },
  {
   "cell_type": "code",
   "execution_count": 1,
   "metadata": {},
   "outputs": [
    {
     "name": "stdout",
     "output_type": "stream",
     "text": [
      "0 ls\n",
      "1 df\n",
      "2 hostname\n"
     ]
    }
   ],
   "source": [
    "cmd1 = \"ls\"\n",
    "cmd2 = \"df\"\n",
    "cmd3 = \"hostname\"\n",
    "cmds = [cmd1,cmd2,cmd3]\n",
    "\n",
    "for i , command in enumerate(cmds):\n",
    "    print(i, command)"
   ]
  },
  {
   "cell_type": "code",
   "execution_count": 7,
   "metadata": {},
   "outputs": [
    {
     "data": {
      "text/plain": [
       "3"
      ]
     },
     "execution_count": 7,
     "metadata": {},
     "output_type": "execute_result"
    }
   ],
   "source": [
    "#  피자 조각 2 ~ 12조각까지 원하는 조각수\n",
    "'''\n",
    "피지조각수 = slice\n",
    "피자먹는사람 수 = n\n",
    "ceil() -> 인자로 들어온 x의 올림 값을 반환 한다.\n",
    "ex )\n",
    "ceil(1.0) => 1\n",
    "ceil(1.1) => 2\n",
    "ceil(1.2) => 2\n",
    "ceil(1.5) => 2\n",
    "ceil(2.1) => 3\n",
    "ceil(-3.2) => -3\n",
    "'''\n",
    "import math\n",
    "\n",
    "slice = 4\n",
    "n = 12\n",
    "def sol(slice,n):\n",
    "    return math.ceil(n/slice)\n",
    "\n",
    "sol(4,12)\n"
   ]
  },
  {
   "cell_type": "code",
   "execution_count": 12,
   "metadata": {},
   "outputs": [
    {
     "name": "stdout",
     "output_type": "stream",
     "text": [
      "2\n",
      "1.4285714285714286\n"
     ]
    }
   ],
   "source": [
    "print(math.ceil(10/7))\n",
    "print(10/7)"
   ]
  },
  {
   "cell_type": "code",
   "execution_count": 6,
   "metadata": {},
   "outputs": [
    {
     "data": {
      "text/plain": [
       "3"
      ]
     },
     "execution_count": 6,
     "metadata": {},
     "output_type": "execute_result"
    }
   ],
   "source": [
    "def sol(slice,n):\n",
    "    return ((n-1) // slice) +1\n",
    "\n",
    "sol(slice,n)"
   ]
  },
  {
   "cell_type": "code",
   "execution_count": 16,
   "metadata": {},
   "outputs": [],
   "source": [
    "# n 사람 수\n",
    "n = 6\n",
    "\n",
    "def sol(n):\n",
    "    answer=0\n",
    "    return answer"
   ]
  },
  {
   "cell_type": "code",
   "execution_count": 21,
   "metadata": {},
   "outputs": [
    {
     "name": "stdout",
     "output_type": "stream",
     "text": [
      "6 6\n",
      "12 2\n",
      "18 8\n",
      "24 4\n"
     ]
    }
   ],
   "source": [
    "n = 10\n",
    "pizza = 6\n",
    "while pizza % n != 0:\n",
    "    print(pizza, pizza%n)\n",
    "    pizza+=6\n",
    "\n",
    "'''\n",
    "\n",
    "import math\n",
    "\n",
    "def solution(n):\n",
    "    return (n * 6) // math.gcd(n, 6) // 6\n",
    "'''\n"
   ]
  },
  {
   "cell_type": "code",
   "execution_count": null,
   "metadata": {},
   "outputs": [],
   "source": [
    "# 옷가게 할인받기.\n",
    "def solution(price):\n",
    "    discount=0\n",
    "    if price >= 100000 and price < 300000:\n",
    "        discount = price * 0.05\n",
    "        answer = price - discount\n",
    "        \n",
    "    elif  price >= 300000 and price < 500000:\n",
    "        discount = price * 0.1\n",
    "        answer = price - discount\n",
    "        \n",
    "    elif price >= 500000:\n",
    "        discount = price * 0.2\n",
    "        answer = price - discount\n",
    "    \n",
    "    else:\n",
    "        answer = price\n",
    "    return answer\n",
    "'''\n",
    "내가 찾아쓴거\n",
    "def solution(price):\n",
    "    if price >= 500000:\n",
    "        return int(price * 0.8)\n",
    "    if price >= 300000:\n",
    "        return int(price * 0.9)\n",
    "    if price >= 100000:\n",
    "        return int(price * 0.95)\n",
    "    return int(price)\n",
    "'''\n",
    "'''\n",
    "def solution(price):\n",
    "    discount_rates = {500000: 0.8, 300000: 0.9, 100000: 0.95, 0: 1}\n",
    "    for discount_price, discount_rate in discount_rates.items():\n",
    "        if price >= discount_price:\n",
    "            return int(price * discount_rate)\n",
    "'''"
   ]
  },
  {
   "cell_type": "code",
   "execution_count": 31,
   "metadata": {},
   "outputs": [],
   "source": [
    "# 타입 힌팅(type hinting)\n",
    "num = 1 # type : int\n",
    "def repeat(message, times=2):\n",
    "    # type : (str, int) -> list\n",
    "    return [message] * times\n",
    "\n",
    "# 타입 어노테이션(type annotation)\n",
    "num: int = 1\n",
    "def repeat(message:str, times:int = 2) -> list:\n",
    "    return [message] * times\n",
    "\n",
    "# 변수 타입 어노테이션(annotation) -> 주석 \n",
    "name : str = \"BOB\"\n",
    "age : int = 29\n",
    "email: list = [\"bob@google.com\",'bob@naver.com']\n",
    "address: dict = {\n",
    "    \"street\" : \"Jung Jo Ro 111\",\n",
    "    \"city\" : \"Suwon\",\n",
    "}\n",
    "\n",
    "# 함수 타입 어노테이션\n",
    "#def 함수명(<필수 인자>: <인자 타입>, <선택 인자>: <인자타입> = <기본값>) -> <반환 타입>:\n",
    "def change(num:int) -> str:\n",
    "    return str(num)\n",
    "\n",
    "def plus(num1 : int, num2: float = 3.5) -> float:\n",
    "    return num1 + num2\n",
    "\n",
    "def greet(name : str) -> None:\n",
    "    return \"Hi\" + name\n"
   ]
  },
  {
   "cell_type": "code",
   "execution_count": 3,
   "metadata": {},
   "outputs": [
    {
     "name": "stdout",
     "output_type": "stream",
     "text": [
      "a b c d e f g h i j k l m n o p q r s t u v w x y z "
     ]
    }
   ],
   "source": [
    "for i in range(97,123):\n",
    "    print(chr(i), end=' ')"
   ]
  },
  {
   "cell_type": "code",
   "execution_count": 20,
   "metadata": {},
   "outputs": [
    {
     "name": "stdout",
     "output_type": "stream",
     "text": [
      "cd\n",
      "fb\n",
      "baa\n"
     ]
    }
   ],
   "source": [
    "# 프로그래머스 외계행성 나이\n",
    "t1 = 23\n",
    "t2 = 51\n",
    "t3 = 100\n",
    "text=''\n",
    "\n",
    "def sol(age):\n",
    "    answer=''\n",
    "    for i in str(age):\n",
    "        answer += chr(int(i)+97)\n",
    "    return answer\n",
    "\n",
    "print(sol(t1))\n",
    "print(sol(t2))\n",
    "print(sol(t3))\n"
   ]
  },
  {
   "cell_type": "code",
   "execution_count": 55,
   "metadata": {},
   "outputs": [
    {
     "name": "stdout",
     "output_type": "stream",
     "text": [
      "[(1, 76), (2, 24), (3, 3)]\n",
      "{76: 1, 24: 2, 3: 3}\n",
      "3\n",
      "3\n",
      "76\n",
      "1\n",
      "24\n",
      "2\n",
      "None\n"
     ]
    }
   ],
   "source": [
    "# 진료순서 정하기\n",
    "def solution(emergency: list) -> list:\n",
    "    dict = {num: index for index, num in enumerate(sorted(emergency, reverse=True), start=1)}\n",
    "    ls = [i for i in enumerate(sorted(emergency,reverse=True),start=1)]\n",
    "    print(ls)\n",
    "    # for index, rank in enumerate(sorted(emergency, reverse=True), start=1):\n",
    "    #     dic[index] = rank\n",
    "    #     print(dic)\n",
    "    print(dict)\n",
    "    for i in emergency:\n",
    "        print(i)\n",
    "        print(dict[i])\n",
    "\n",
    "\n",
    "    # return [dict[x] for x in emergency]\n",
    "\n",
    "print(solution([3, 76, 24]))             # [3, 1, 2]\n",
    "# print(solution([1, 2, 3, 4, 5, 6, 7]))   # [7, 6, 5, 4, 3, 2, 1]\n",
    "# print(solution([30, 10, 23, 6, 100]))    # [2, 4, 3, 5, 1]"
   ]
  },
  {
   "cell_type": "code",
   "execution_count": 4,
   "metadata": {},
   "outputs": [
    {
     "name": "stdout",
     "output_type": "stream",
     "text": [
      "11\n"
     ]
    }
   ],
   "source": [
    "# lambda func\n",
    "def plus_ten(x):\n",
    "    return x +10\n",
    "\n",
    "print(plus_ten(1))\n"
   ]
  },
  {
   "cell_type": "code",
   "execution_count": 6,
   "metadata": {},
   "outputs": [
    {
     "name": "stdout",
     "output_type": "stream",
     "text": [
      "11\n"
     ]
    }
   ],
   "source": [
    "plus = lambda x: x +10\n",
    "print(plus(1))"
   ]
  },
  {
   "cell_type": "code",
   "execution_count": 7,
   "metadata": {},
   "outputs": [
    {
     "data": {
      "text/plain": [
       "11"
      ]
     },
     "execution_count": 7,
     "metadata": {},
     "output_type": "execute_result"
    }
   ],
   "source": [
    "(lambda x: x+10)(1)"
   ]
  },
  {
   "cell_type": "code",
   "execution_count": 8,
   "metadata": {},
   "outputs": [
    {
     "data": {
      "text/plain": [
       "11"
      ]
     },
     "execution_count": 8,
     "metadata": {},
     "output_type": "execute_result"
    }
   ],
   "source": [
    "y=10\n",
    "(lambda x: x+y)(1)"
   ]
  },
  {
   "cell_type": "code",
   "execution_count": 9,
   "metadata": {},
   "outputs": [
    {
     "data": {
      "text/plain": [
       "[11, 12, 13]"
      ]
     },
     "execution_count": 9,
     "metadata": {},
     "output_type": "execute_result"
    }
   ],
   "source": [
    "list(map(plus_ten,[1,2,3]))"
   ]
  },
  {
   "cell_type": "code",
   "execution_count": 10,
   "metadata": {},
   "outputs": [
    {
     "data": {
      "text/plain": [
       "[11, 12, 13]"
      ]
     },
     "execution_count": 10,
     "metadata": {},
     "output_type": "execute_result"
    }
   ],
   "source": [
    "list(map(lambda x : x +10, [1,2,3]))"
   ]
  },
  {
   "cell_type": "code",
   "execution_count": 27,
   "metadata": {},
   "outputs": [
    {
     "name": "stdout",
     "output_type": "stream",
     "text": [
      "0 0 1 [4, 6, 1, 10]\n",
      "0 1 2 [4, 1, 6, 10]\n",
      "0 2 3 [4, 1, 6, 10]\n",
      "\n",
      "1 0 1 [1, 4, 6, 10]\n",
      "1 1 2 [1, 4, 6, 10]\n",
      "\n",
      "2 0 1 [1, 4, 6, 10]\n",
      "\n"
     ]
    }
   ],
   "source": [
    "li = [4,6,1,10]\n",
    "length_li = len(li)\n",
    "for i in range(length_li-1):\n",
    "    # print(i)\n",
    "    for j in  range(length_li-i-1):\n",
    "        # print(j,end=\"\")\n",
    "        if li[j] > li[j+1]:\n",
    "            li[j], li[j+1] = li[j+1], li[j]\n",
    "        print(i, j, j+1, li)\n",
    "    print()"
   ]
  },
  {
   "cell_type": "code",
   "execution_count": 30,
   "metadata": {},
   "outputs": [
    {
     "name": "stdout",
     "output_type": "stream",
     "text": [
      "s =  [[0, 0, 0, 0, 0], [0, 0, 0, 0, 0], [0, 0, 0, 0, 0]]\n",
      "[[1, 1, 1, 1, 1], [1, 1, 1, 1, 1], [1, 1, 1, 1, 1]]\n"
     ]
    }
   ],
   "source": [
    "rows = 3\n",
    "cols = 5\n",
    "s = []\n",
    "for row in range(rows):\n",
    "    s += [ [0]*cols]\n",
    "print(\"s = \", s)\n",
    "\n",
    "t = [([1]*cols) for x in range(rows)]\n",
    "print(t)"
   ]
  },
  {
   "cell_type": "code",
   "execution_count": 34,
   "metadata": {},
   "outputs": [
    {
     "name": "stdout",
     "output_type": "stream",
     "text": [
      "1\t2\t3\t4\t5\t\n",
      "6\t7\t8\t9\t10\t\n",
      "11\t12\t13\t14\t15\t\n"
     ]
    }
   ],
   "source": [
    "s = [[1,2,3,4,5],[6,7,8,9,10],[11,12,13,14,15]]\n",
    "rows = len(s)\n",
    "cols = len(s[0])\n",
    "\n",
    "for r in range(rows):\n",
    "    for c in range(cols):\n",
    "        print(s[r][c], end=\"\\t\")\n",
    "    print()"
   ]
  },
  {
   "cell_type": "code",
   "execution_count": 36,
   "metadata": {},
   "outputs": [
    {
     "name": "stdout",
     "output_type": "stream",
     "text": [
      "[[0, 0, 0, 0, 0, 0, 0, 0, 0, 0], [0, 0, 0, 0, 0, 0, 0, 0, 0, 0], [0, 0, 0, 0, 0, 0, 0, 0, 0, 0], [0, 0, 0, 0, 0, 0, 0, 0, 0, 0], [0, 0, 0, 0, 0, 0, 0, 0, 0, 0], [0, 0, 0, 0, 0, 0, 0, 0, 0, 0], [0, 0, 0, 0, 0, 0, 0, 0, 0, 0], [0, 0, 0, 0, 0, 0, 0, 0, 0, 0], [0, 0, 0, 0, 0, 0, 0, 0, 0, 0], [0, 0, 0, 0, 0, 0, 0, 0, 0, 0]]\n"
     ]
    }
   ],
   "source": [
    "table=[]\n",
    "for row in range(10):\n",
    "    table += [ [0] * 10]\n",
    "print(table)"
   ]
  },
  {
   "cell_type": "code",
   "execution_count": 40,
   "metadata": {},
   "outputs": [],
   "source": [
    "n = [1,2,3,4,5,6,7,8]\n",
    "m = 2"
   ]
  },
  {
   "cell_type": "code",
   "execution_count": 41,
   "metadata": {},
   "outputs": [],
   "source": [
    "import numpy as np\n",
    "\n",
    "def sol(n,m):\n",
    "    li = np.array(n).reshape(-1,m)\n",
    "    return li.tolist()"
   ]
  },
  {
   "cell_type": "code",
   "execution_count": 42,
   "metadata": {},
   "outputs": [
    {
     "data": {
      "text/plain": [
       "[[1, 2], [3, 4], [5, 6], [7, 8]]"
      ]
     },
     "execution_count": 42,
     "metadata": {},
     "output_type": "execute_result"
    }
   ],
   "source": [
    "sol(n,m)"
   ]
  },
  {
   "cell_type": "code",
   "execution_count": 54,
   "metadata": {},
   "outputs": [
    {
     "name": "stdout",
     "output_type": "stream",
     "text": [
      "[1 2 3 4 5 6 7 8]\n",
      "[[1 2]\n",
      " [3 4]\n",
      " [5 6]\n",
      " [7 8]]\n",
      "[[1, 2], [3, 4], [5, 6], [7, 8]]\n"
     ]
    }
   ],
   "source": [
    "t = np.array(n)\n",
    "print(t)\n",
    "t = t.reshape(-1,m)\n",
    "print(t)\n",
    "t = t.tolist()\n",
    "print(t)"
   ]
  },
  {
   "cell_type": "code",
   "execution_count": 4,
   "metadata": {},
   "outputs": [
    {
     "data": {
      "text/html": [
       "<div>\n",
       "<style scoped>\n",
       "    .dataframe tbody tr th:only-of-type {\n",
       "        vertical-align: middle;\n",
       "    }\n",
       "\n",
       "    .dataframe tbody tr th {\n",
       "        vertical-align: top;\n",
       "    }\n",
       "\n",
       "    .dataframe thead th {\n",
       "        text-align: right;\n",
       "    }\n",
       "</style>\n",
       "<table border=\"1\" class=\"dataframe\">\n",
       "  <thead>\n",
       "    <tr style=\"text-align: right;\">\n",
       "      <th></th>\n",
       "      <th>col1</th>\n",
       "      <th>col2</th>\n",
       "    </tr>\n",
       "  </thead>\n",
       "  <tbody>\n",
       "    <tr>\n",
       "      <th>0</th>\n",
       "      <td>A</td>\n",
       "      <td>2</td>\n",
       "    </tr>\n",
       "    <tr>\n",
       "      <th>1</th>\n",
       "      <td>B</td>\n",
       "      <td>3</td>\n",
       "    </tr>\n",
       "    <tr>\n",
       "      <th>2</th>\n",
       "      <td>B</td>\n",
       "      <td>4</td>\n",
       "    </tr>\n",
       "    <tr>\n",
       "      <th>3</th>\n",
       "      <td>A</td>\n",
       "      <td>5</td>\n",
       "    </tr>\n",
       "    <tr>\n",
       "      <th>4</th>\n",
       "      <td>B</td>\n",
       "      <td>6</td>\n",
       "    </tr>\n",
       "    <tr>\n",
       "      <th>5</th>\n",
       "      <td>B</td>\n",
       "      <td>7</td>\n",
       "    </tr>\n",
       "    <tr>\n",
       "      <th>6</th>\n",
       "      <td>A</td>\n",
       "      <td>8</td>\n",
       "    </tr>\n",
       "  </tbody>\n",
       "</table>\n",
       "</div>"
      ],
      "text/plain": [
       "  col1  col2\n",
       "0    A     2\n",
       "1    B     3\n",
       "2    B     4\n",
       "3    A     5\n",
       "4    B     6\n",
       "5    B     7\n",
       "6    A     8"
      ]
     },
     "execution_count": 4,
     "metadata": {},
     "output_type": "execute_result"
    }
   ],
   "source": [
    "import pandas as pd\n",
    "\n",
    "df = pd.DataFrame({'col1':['A','B','B','A','B','B','A'],\n",
    "'col2':[2,3,4,5,6,7,8]})\n",
    "\n",
    "df"
   ]
  },
  {
   "cell_type": "code",
   "execution_count": 6,
   "metadata": {},
   "outputs": [
    {
     "data": {
      "text/html": [
       "<div>\n",
       "<style scoped>\n",
       "    .dataframe tbody tr th:only-of-type {\n",
       "        vertical-align: middle;\n",
       "    }\n",
       "\n",
       "    .dataframe tbody tr th {\n",
       "        vertical-align: top;\n",
       "    }\n",
       "\n",
       "    .dataframe thead th {\n",
       "        text-align: right;\n",
       "    }\n",
       "</style>\n",
       "<table border=\"1\" class=\"dataframe\">\n",
       "  <thead>\n",
       "    <tr style=\"text-align: right;\">\n",
       "      <th></th>\n",
       "      <th>col1</th>\n",
       "      <th>col2</th>\n",
       "    </tr>\n",
       "  </thead>\n",
       "  <tbody>\n",
       "    <tr>\n",
       "      <th>1</th>\n",
       "      <td>B</td>\n",
       "      <td>3</td>\n",
       "    </tr>\n",
       "  </tbody>\n",
       "</table>\n",
       "</div>"
      ],
      "text/plain": [
       "  col1  col2\n",
       "1    B     3"
      ]
     },
     "execution_count": 6,
     "metadata": {},
     "output_type": "execute_result"
    }
   ],
   "source": [
    "df.loc[[1]]"
   ]
  },
  {
   "cell_type": "code",
   "execution_count": 11,
   "metadata": {},
   "outputs": [
    {
     "name": "stdout",
     "output_type": "stream",
     "text": [
      "col2    7\n",
      "dtype: int64\n"
     ]
    }
   ],
   "source": [
    "print(df.iloc[1:3].sum(numeric_only=True))"
   ]
  },
  {
   "cell_type": "code",
   "execution_count": 1,
   "metadata": {},
   "outputs": [],
   "source": [
    "box = [10,8,6]\n",
    "n = 3"
   ]
  },
  {
   "cell_type": "code",
   "execution_count": 15,
   "metadata": {},
   "outputs": [],
   "source": [
    "# 주사위 개수 - 프로그래머스\n",
    "def multi(nums: list) -> int:\n",
    "    result = 0\n",
    "\n",
    "    for x in nums:\n",
    "        print(\"x = {}\".format(x))\n",
    "        if not result:\n",
    "            result = x\n",
    "            print(\"result = {}\".format(result))\n",
    "            continue\n",
    "        result *= x\n",
    "\n",
    "    return result\n",
    "\n",
    "def solution(box: list, n: int) -> int:\n",
    "    return multi([x//n for x in box]) # 몫만 계산 됨 1,1,1 / 3,2,2"
   ]
  },
  {
   "cell_type": "code",
   "execution_count": 16,
   "metadata": {},
   "outputs": [
    {
     "name": "stdout",
     "output_type": "stream",
     "text": [
      "x = 1\n",
      "result = 1\n",
      "x = 1\n",
      "x = 1\n",
      "1\n",
      "x = 3\n",
      "result = 3\n",
      "x = 2\n",
      "x = 2\n",
      "12\n"
     ]
    }
   ],
   "source": [
    "if __name__ == '__main__':\n",
    "    print(solution([1, 1, 1], 1))    # 1\n",
    "    print(solution([10, 8, 6], 3))   # 12"
   ]
  },
  {
   "cell_type": "code",
   "execution_count": 5,
   "metadata": {},
   "outputs": [
    {
     "name": "stdout",
     "output_type": "stream",
     "text": [
      "i 값 = 2\n",
      "j 값 = 1 [2]\n",
      "j 값 = 2 [2, 2]\n",
      "\n",
      "i 값 = 3\n",
      "j 값 = 1 [3]\n",
      "j 값 = 2 [3]\n",
      "j 값 = 3 [3, 3]\n",
      "\n",
      "i 값 = 4\n",
      "j 값 = 1 [4]\n",
      "j 값 = 2 [4, 4]\n",
      "j 값 = 3 [4, 4]\n",
      "j 값 = 4 [4, 4, 4]\n",
      "i의 값 : 3\n",
      "\n",
      "i 값 = 5\n",
      "j 값 = 1 [5]\n",
      "j 값 = 2 [5]\n",
      "j 값 = 3 [5]\n",
      "j 값 = 4 [5]\n",
      "j 값 = 5 [5, 5]\n",
      "\n",
      "i 값 = 6\n",
      "j 값 = 1 [6]\n",
      "j 값 = 2 [6, 6]\n",
      "j 값 = 3 [6, 6, 6]\n",
      "j 값 = 4 [6, 6, 6]\n",
      "j 값 = 5 [6, 6, 6]\n",
      "j 값 = 6 [6, 6, 6, 6]\n",
      "i의 값 : 4\n",
      "\n",
      "i 값 = 7\n",
      "j 값 = 1 [7]\n",
      "j 값 = 2 [7]\n",
      "j 값 = 3 [7]\n",
      "j 값 = 4 [7]\n",
      "j 값 = 5 [7]\n",
      "j 값 = 6 [7]\n",
      "j 값 = 7 [7, 7]\n",
      "\n",
      "i 값 = 8\n",
      "j 값 = 1 [8]\n",
      "j 값 = 2 [8, 8]\n",
      "j 값 = 3 [8, 8]\n",
      "j 값 = 4 [8, 8, 8]\n",
      "j 값 = 5 [8, 8, 8]\n",
      "j 값 = 6 [8, 8, 8]\n",
      "j 값 = 7 [8, 8, 8]\n",
      "j 값 = 8 [8, 8, 8, 8]\n",
      "i의 값 : 4\n",
      "\n",
      "i 값 = 9\n",
      "j 값 = 1 [9]\n",
      "j 값 = 2 [9]\n",
      "j 값 = 3 [9, 9]\n",
      "j 값 = 4 [9, 9]\n",
      "j 값 = 5 [9, 9]\n",
      "j 값 = 6 [9, 9]\n",
      "j 값 = 7 [9, 9]\n",
      "j 값 = 8 [9, 9]\n",
      "j 값 = 9 [9, 9, 9]\n",
      "i의 값 : 3\n",
      "\n",
      "i 값 = 10\n",
      "j 값 = 1 [10]\n",
      "j 값 = 2 [10, 10]\n",
      "j 값 = 3 [10, 10]\n",
      "j 값 = 4 [10, 10]\n",
      "j 값 = 5 [10, 10, 10]\n",
      "j 값 = 6 [10, 10, 10]\n",
      "j 값 = 7 [10, 10, 10]\n",
      "j 값 = 8 [10, 10, 10]\n",
      "j 값 = 9 [10, 10, 10]\n",
      "j 값 = 10 [10, 10, 10, 10]\n",
      "i의 값 : 4\n",
      "\n",
      "5\n"
     ]
    }
   ],
   "source": [
    "# 합성수 구하기 - 프로그래머스\n",
    "n = 10\n",
    "num=[]\n",
    "answer = 0\n",
    "\n",
    "for i in range(2, n+1): # n까지 돌려버리기(전체범위)\n",
    "    print(\"i 값 = {}\".format(i))\n",
    "    for j in range(1,i+1): # 합성수 인지 아닌지 파악\n",
    "        print(\"j 값 = {}\".format(j),end=\" \")\n",
    "        if i % j ==0:   #i가 j의 약수인지 아닌지 판별\n",
    "            num.append(i)\n",
    "        print(num)\n",
    "    if num.count(i) >=3: # 리스트안에 i값이 3개이상일 경우에 answer +1하기\n",
    "        print(\"i의 값 : {}\".format(num.count(i)))\n",
    "        answer+=1\n",
    "    num=[]\n",
    "    print()\n",
    "print(answer)"
   ]
  },
  {
   "cell_type": "code",
   "execution_count": 4,
   "metadata": {},
   "outputs": [
    {
     "data": {
      "text/plain": [
       "[2, 3]"
      ]
     },
     "execution_count": 4,
     "metadata": {},
     "output_type": "execute_result"
    }
   ],
   "source": [
    "# 소인수분해\n",
    "def sol(n):\n",
    "    answer=[]\n",
    "    t=[]\n",
    "    i=2\n",
    "\n",
    "    while i <=n:\n",
    "        if n % i == 0:\n",
    "            t.append(i)\n",
    "            n = n//i\n",
    "        else:\n",
    "            i+=1\n",
    "\n",
    "    for i in t:\n",
    "        if i not in answer:\n",
    "            answer.append(i)\n",
    "    return answer\n",
    "\n",
    "\n",
    "sol(12)"
   ]
  },
  {
   "cell_type": "code",
   "execution_count": 12,
   "metadata": {},
   "outputs": [
    {
     "name": "stdout",
     "output_type": "stream",
     "text": [
      "[0, 1, 4, 9, 16, 25, 36, 49, 64, 81, 100, 121, 144, 169, 196, 225, 256, 289, 324, 361]\n",
      "3.0\n"
     ]
    }
   ],
   "source": [
    "from math import sqrt\n",
    "a = 20\n",
    "\n",
    "ls = [x*x for x in range(a)]\n",
    "print(ls)\n",
    "print(sqrt(9))\n"
   ]
  },
  {
   "cell_type": "code",
   "execution_count": 20,
   "metadata": {},
   "outputs": [],
   "source": [
    "def sol(n):\n",
    "    print(\"임의의 제곱수 {}\".format(n))\n",
    "    for i in range(1,1001):\n",
    "        # print(\"i의 값은 {} 제곱은 {}\".format(i, i*i))\n",
    "        if i*i == n:\n",
    "            print(\"n은 i의 제곱수이다. n은 {} i는 {}\".format(n,i))"
   ]
  },
  {
   "cell_type": "code",
   "execution_count": 21,
   "metadata": {},
   "outputs": [
    {
     "name": "stdout",
     "output_type": "stream",
     "text": [
      "임의의 제곱수 144\n",
      "n은 i의 제곱수이다. n은 144 i는 12\n"
     ]
    }
   ],
   "source": [
    "sol(144)"
   ]
  },
  {
   "cell_type": "code",
   "execution_count": 68,
   "metadata": {},
   "outputs": [],
   "source": [
    "def sol(text, code):\n",
    "    answer = ''\n",
    "    for i,char in enumerate(text, start=1):\n",
    "        if i % code == 0:\n",
    "            answer += char\n",
    "            print(answer)\n",
    "    return answer"
   ]
  },
  {
   "cell_type": "code",
   "execution_count": 69,
   "metadata": {},
   "outputs": [
    {
     "name": "stdout",
     "output_type": "stream",
     "text": [
      "a\n",
      "at\n",
      "att\n",
      "atta\n",
      "attac\n",
      "attack\n"
     ]
    },
    {
     "data": {
      "text/plain": [
       "'attack'"
      ]
     },
     "execution_count": 69,
     "metadata": {},
     "output_type": "execute_result"
    }
   ],
   "source": [
    "text = \"dfjardstddetckdaccccdegk\"\n",
    "code = 4\n",
    "sol(text,code)"
   ]
  },
  {
   "cell_type": "code",
   "execution_count": 70,
   "metadata": {},
   "outputs": [
    {
     "name": "stdout",
     "output_type": "stream",
     "text": [
      "P^y^t^h^o^n\n"
     ]
    }
   ],
   "source": [
    "print(\"^\".join(\"Python\"))"
   ]
  },
  {
   "cell_type": "code",
   "execution_count": 25,
   "metadata": {},
   "outputs": [
    {
     "name": "stdout",
     "output_type": "stream",
     "text": [
      "stack :  [1]\n",
      "stack :  [1, 2]\n",
      "stack :  [1]\n",
      "stack :  [1, 3]\n",
      "result :  4\n"
     ]
    }
   ],
   "source": [
    "# https://chan-lab.tistory.com/30 스택에 대해서 알아야함\n",
    "# 컨트롤 제트\n",
    "s = \"1 2 Z 3\"\n",
    "answer=[] # stack\n",
    "for i in s.split():\n",
    "    try:\n",
    "        num = int(i)\n",
    "        answer.append(num)\n",
    "    except:\n",
    "        if answer:\n",
    "            pop_data = answer.pop()\n",
    "    print('stack : ', answer)\n",
    "print(\"result : \" ,sum(answer))"
   ]
  },
  {
   "cell_type": "code",
   "execution_count": 56,
   "metadata": {},
   "outputs": [
    {
     "name": "stdout",
     "output_type": "stream",
     "text": [
      "[3, 10, 28]\n",
      "[3, 10, 28]\n",
      "20-3\n",
      "20-10\n",
      "20-28\n"
     ]
    },
    {
     "data": {
      "text/plain": [
       "28"
      ]
     },
     "execution_count": 56,
     "metadata": {},
     "output_type": "execute_result"
    }
   ],
   "source": [
    "#가까운 수\n",
    "array=[3, 10, 28]\t\n",
    "n = 20\n",
    "\n",
    "# def sol(array,n):\n",
    "#     for i,j in enumerate(array):\n",
    "#         print(abs(j-n))\n",
    "# sol(array,n)\n",
    "\n",
    "def sol(array,n):\n",
    "    box=[]\n",
    "    print(array)\n",
    "    array.sort()\n",
    "    print(array)\n",
    "    for i in array:\n",
    "        print(f\"{n}-{i}\")\n",
    "        box.append(abs(n-i))\n",
    "    answer = [array[box.index(min(box))]] # min(box)=8, box.index(8) = 2, array[2] = 28,\n",
    "    if len(answer) > 1:\n",
    "        return min(answer)\n",
    "    else:\n",
    "        return answer[0]\n",
    "\n",
    "sol(array,n)"
   ]
  },
  {
   "cell_type": "code",
   "execution_count": 130,
   "metadata": {},
   "outputs": [
    {
     "name": "stdout",
     "output_type": "stream",
     "text": [
      "6\n"
     ]
    }
   ],
   "source": [
    "# 369 게임\n",
    "order = 369369\n",
    "\n",
    "def sol(order):\n",
    "    answer = str(order).count('3') + str(order).count('6') + str(order).count('9')\n",
    "    return answer\n",
    "\n",
    "print(sol(order))"
   ]
  },
  {
   "cell_type": "code",
   "execution_count": 129,
   "metadata": {},
   "outputs": [
    {
     "name": "stdout",
     "output_type": "stream",
     "text": [
      "0\n"
     ]
    }
   ],
   "source": [
    "# A로 B만들기\n",
    "before = \"allpe\"\n",
    "after = \"apple\"\n",
    "\n",
    "def sol(before,after):\n",
    "    return 1 if sorted(before) == sorted(after) else 0\n",
    "\n",
    "print(sol(before,after))"
   ]
  },
  {
   "cell_type": "code",
   "execution_count": 128,
   "metadata": {},
   "outputs": [],
   "source": [
    "# k 개수\n",
    "def sol(i,j,k):\n",
    "    print(i,j,k)\n",
    "    answer=0\n",
    "    for i in range(i, j+1):\n",
    "        for j in list(str(i)):\n",
    "            print(j, end=\" \")\n",
    "            if j == str(k):\n",
    "                answer+=1\n",
    "    return answer"
   ]
  },
  {
   "cell_type": "code",
   "execution_count": 127,
   "metadata": {},
   "outputs": [
    {
     "name": "stdout",
     "output_type": "stream",
     "text": [
      "10 50 5\n",
      "1 0 1 1 1 2 1 3 1 4 1 5 1 6 1 7 1 8 1 9 2 0 2 1 2 2 2 3 2 4 2 5 2 6 2 7 2 8 2 9 3 0 3 1 3 2 3 3 3 4 3 5 3 6 3 7 3 8 3 9 4 0 4 1 4 2 4 3 4 4 4 5 4 6 4 7 4 8 4 9 5 0 5\n"
     ]
    }
   ],
   "source": [
    "if __name__ == '__main__':\n",
    "    print(sol(10,50,5))\n",
    "    # print(sol(1,13,1))\n",
    "    # print(sol(3,10,2))"
   ]
  },
  {
   "cell_type": "code",
   "execution_count": 193,
   "metadata": {},
   "outputs": [],
   "source": [
    "def sol(s):\n",
    "    dict={}\n",
    "    answer = []\n",
    "    for word in s:\n",
    "        if word in dict:\n",
    "            dict[word] = dict[word]+1\n",
    "        else:\n",
    "            dict[word]=1\n",
    "    for k,v in dict.items():\n",
    "        if v == 1:\n",
    "            # answer +=k\n",
    "            answer.append(k)\n",
    "    return ''.join(sorted(answer))\n"
   ]
  },
  {
   "cell_type": "code",
   "execution_count": 196,
   "metadata": {},
   "outputs": [],
   "source": [
    "def sol(s):\n",
    "    # answer = ''.join(sorted([i for i in s if s.count(i) == 1]))\n",
    "    # return answer\n",
    "    return ''.join(sorted([i for i in s if s.count(i) == 1]))"
   ]
  },
  {
   "cell_type": "code",
   "execution_count": 197,
   "metadata": {},
   "outputs": [
    {
     "name": "stdout",
     "output_type": "stream",
     "text": [
      "d\n",
      "abcd\n",
      "eho\n"
     ]
    }
   ],
   "source": [
    "if __name__ == '__main__':\n",
    "    print(sol(\"abcabcadc\"))\n",
    "    print(sol(\"abdc\"))\n",
    "    print(sol(\"hello\"))"
   ]
  },
  {
   "cell_type": "code",
   "execution_count": 198,
   "metadata": {},
   "outputs": [],
   "source": [
    "# 숨어있는 숫자의 덧셈(2)\n",
    "import re\n",
    "def solution(my_string):\n",
    "    # text = re.findall(r\"[0-9]+\",my_string)\n",
    "    # answer=0\n",
    "    # for i in text:\n",
    "    #     answer+=int(i)\n",
    "    # return answer\n",
    "\n",
    "    return sum([int(i) for i in re.findall(r'[0-9]+',my_string)])"
   ]
  },
  {
   "cell_type": "code",
   "execution_count": 207,
   "metadata": {},
   "outputs": [],
   "source": [
    "def sol(s):\n",
    "    nums = [\"zero\",\"one\",\"two\",\"three\",\"four\",\"five\",\"six\",\"seven\",\"eight\",\"nine\"]\n",
    "    print(s)\n",
    "    for i,j in enumerate(nums):\n",
    "\n",
    "        s = s.replace(j,str(i))\n",
    "    print(s)"
   ]
  },
  {
   "cell_type": "code",
   "execution_count": 208,
   "metadata": {},
   "outputs": [
    {
     "name": "stdout",
     "output_type": "stream",
     "text": [
      "onetwothreefourfivesixseveneightnine\n",
      "123456789\n",
      "None\n",
      "onefourzerosixseven\n",
      "14067\n",
      "None\n"
     ]
    }
   ],
   "source": [
    "if __name__ == '__main__':\n",
    "    print(sol(\"onetwothreefourfivesixseveneightnine\"))\n",
    "    print(sol(\"onefourzerosixseven\"))"
   ]
  },
  {
   "cell_type": "code",
   "execution_count": 214,
   "metadata": {},
   "outputs": [
    {
     "name": "stdout",
     "output_type": "stream",
     "text": [
      "0\n",
      "6\n",
      "12\n"
     ]
    }
   ],
   "source": [
    "def solution(my_str, n):\n",
    "    answer=0\n",
    "    for i in range(0,len(my_str),n):\n",
    "        print(i)\n",
    "\n",
    "\n",
    "    # return [my_str[i:i+n] for i in range(0, len(my_str),n)]\n",
    "\n",
    "\n",
    "\n",
    "solution(\"abc1Addfggg4556b\",6)"
   ]
  },
  {
   "cell_type": "code",
   "execution_count": 232,
   "metadata": {},
   "outputs": [
    {
     "name": "stdout",
     "output_type": "stream",
     "text": [
      "2\n"
     ]
    }
   ],
   "source": [
    "sides = [1,2]\n",
    "\n",
    "def sol(sides):\n",
    "    # print(sides)\n",
    "    # print(sorted(sides)[0])\n",
    "    # print(sorted(sides)[0]*2)\n",
    "    # return (sorted(sides)[0] * 2 ) -1\n",
    "\n",
    "    # sides.sort(reverse=True)\n",
    "    # if sides[0] < sides[1] + sides[2]:\n",
    "    #     return 1\n",
    "    # else:\n",
    "    #     return 2\n",
    "\n",
    "    return 1 if max(sides) < (sum(sides) - max(sides)) else 2\n",
    "\n",
    "print(sol([3,6]))"
   ]
  },
  {
   "cell_type": "code",
   "execution_count": null,
   "metadata": {},
   "outputs": [],
   "source": []
  }
 ],
 "metadata": {
  "kernelspec": {
   "display_name": "Python 3.10.3 64-bit",
   "language": "python",
   "name": "python3"
  },
  "language_info": {
   "codemirror_mode": {
    "name": "ipython",
    "version": 3
   },
   "file_extension": ".py",
   "mimetype": "text/x-python",
   "name": "python",
   "nbconvert_exporter": "python",
   "pygments_lexer": "ipython3",
   "version": "3.10.3"
  },
  "orig_nbformat": 4,
  "vscode": {
   "interpreter": {
    "hash": "38b97b5e4081b89d365af18cf2408a2f23fda591f39aba7cd12ad3eafafdc223"
   }
  }
 },
 "nbformat": 4,
 "nbformat_minor": 2
}
