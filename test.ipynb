{
 "cells": [
  {
   "cell_type": "code",
   "execution_count": 1,
   "metadata": {},
   "outputs": [],
   "source": [
    "s1=[\"a\",\"b\",\"c\"]\n",
    "s2=[\"com\",\"b\",\"d\",\"p\",\"c\"]"
   ]
  },
  {
   "cell_type": "code",
   "execution_count": 2,
   "metadata": {},
   "outputs": [],
   "source": [
    "def solution(s1,s2):\n",
    "    return len(set(s1).intersection(s2))"
   ]
  },
  {
   "cell_type": "code",
   "execution_count": 3,
   "metadata": {},
   "outputs": [
    {
     "data": {
      "text/plain": [
       "2"
      ]
     },
     "execution_count": 3,
     "metadata": {},
     "output_type": "execute_result"
    }
   ],
   "source": [
    "solution(s1,s2)"
   ]
  },
  {
   "cell_type": "code",
   "execution_count": 16,
   "metadata": {},
   "outputs": [
    {
     "name": "stdout",
     "output_type": "stream",
     "text": [
      "{'a', 'b', 'c'}\n",
      "{'com', 'b', 'c', 'p', 'd'}\n",
      "{'b', 'c'}\n",
      "{'b', 'c'}\n"
     ]
    }
   ],
   "source": [
    "print(set(s1))\n",
    "print(set(s2))\n",
    "print(set(s1).intersection(s2))\n",
    "print(set(s2).intersection(s1))"
   ]
  },
  {
   "cell_type": "code",
   "execution_count": 26,
   "metadata": {},
   "outputs": [
    {
     "name": "stdout",
     "output_type": "stream",
     "text": [
      "12392 <class 'str'>\n"
     ]
    }
   ],
   "source": [
    "import re\n",
    "str=\"hi12392\"\n",
    "# numbers=re.findall(r'\\d',str)\n",
    "numbers=re.sub(r'[^0-9]','',str)\n",
    "print(numbers,type(numbers))\n"
   ]
  },
  {
   "cell_type": "code",
   "execution_count": 1,
   "metadata": {},
   "outputs": [
    {
     "name": "stdout",
     "output_type": "stream",
     "text": [
      "0 a\n",
      "1 b\n",
      "2 c\n",
      "3 d\n",
      "4 e\n",
      "5 f\n",
      "6 g\n",
      "7 h\n",
      "8 i\n",
      "9 j\n",
      "10 k\n",
      "11 l\n",
      "12 m\n",
      "13 n\n",
      "14 o\n"
     ]
    }
   ],
   "source": [
    "ls = ['a','b','c','d','e','f','g','h','i','j','k','l','m','n','o']\n",
    "\n",
    "for i, data in enumerate(ls):\n",
    "    print(i, data)"
   ]
  },
  {
   "cell_type": "code",
   "execution_count": 1,
   "metadata": {},
   "outputs": [],
   "source": [
    "def fn(a):\n",
    "    return a\n",
    "\n",
    "def fn1(a :int) -> bool:\n",
    "    return a"
   ]
  },
  {
   "cell_type": "code",
   "execution_count": 2,
   "metadata": {},
   "outputs": [
    {
     "ename": "NameError",
     "evalue": "name 'original' is not defined",
     "output_type": "error",
     "traceback": [
      "\u001b[1;31m---------------------------------------------------------------------------\u001b[0m",
      "\u001b[1;31mNameError\u001b[0m                                 Traceback (most recent call last)",
      "\u001b[1;32mc:\\Users\\tec\\Desktop\\python\\Python\\test.ipynb 셀 8\u001b[0m in \u001b[0;36m<cell line: 1>\u001b[1;34m()\u001b[0m\n\u001b[1;32m----> <a href='vscode-notebook-cell:/c%3A/Users/tec/Desktop/python/Python/test.ipynb#X10sZmlsZQ%3D%3D?line=0'>1</a>\u001b[0m a \u001b[39m=\u001b[39m {k:v \u001b[39mfor\u001b[39;00m k,v \u001b[39min\u001b[39;00m original\u001b[39m.\u001b[39mitems()}\n",
      "\u001b[1;31mNameError\u001b[0m: name 'original' is not defined"
     ]
    }
   ],
   "source": [
    "a = {k:v for k,v in original.items()}"
   ]
  },
  {
   "cell_type": "code",
   "execution_count": 5,
   "metadata": {},
   "outputs": [],
   "source": [
    "a = [i for i in range(10000)]\n",
    "b = range(10000)"
   ]
  },
  {
   "cell_type": "code",
   "execution_count": 10,
   "metadata": {},
   "outputs": [
    {
     "name": "stdout",
     "output_type": "stream",
     "text": [
      "85176\n",
      "48\n"
     ]
    }
   ],
   "source": [
    "print(sys.getsizeof(a))\n",
    "print(sys.getsizeof(b))\n"
   ]
  },
  {
   "cell_type": "code",
   "execution_count": 31,
   "metadata": {},
   "outputs": [
    {
     "name": "stdout",
     "output_type": "stream",
     "text": [
      "873211\n"
     ]
    }
   ],
   "source": [
    "def solution(n):\n",
    "    answer = str(n)\n",
    "    a = list(answer)\n",
    "    a.sort(reverse=True)\n",
    "    a = \"\".join(a)\n",
    "    \n",
    "    return a\n",
    "    \n",
    "\n",
    "\n",
    "\n",
    "\n",
    "n = 118372\n",
    "print(solution(n))"
   ]
  },
  {
   "cell_type": "code",
   "execution_count": 34,
   "metadata": {},
   "outputs": [
    {
     "name": "stdout",
     "output_type": "stream",
     "text": [
      "3\n",
      "11\n"
     ]
    }
   ],
   "source": [
    "def sol(n):\n",
    "    t=1\n",
    "    while True:\n",
    "        if n % t ==1:\n",
    "            print(t)\n",
    "            break\n",
    "        t+=1\n",
    "\n",
    "sol(10)\n",
    "sol(12)"
   ]
  },
  {
   "cell_type": "markdown",
   "metadata": {},
   "source": []
  },
  {
   "cell_type": "code",
   "execution_count": 1,
   "metadata": {},
   "outputs": [
    {
     "name": "stdout",
     "output_type": "stream",
     "text": [
      "1~ 5까지 합은 15\n"
     ]
    }
   ],
   "source": [
    "def add(num):\n",
    "    sum=0\n",
    "    for i in range(1, num+1,1):\n",
    "        sum = sum+i\n",
    "    return sum\n",
    "\n",
    "num = int(input())\n",
    "res = add(num)\n",
    "print(\"1~ {}까지 합은 {}\".format(num,res))"
   ]
  },
  {
   "cell_type": "code",
   "execution_count": 3,
   "metadata": {},
   "outputs": [
    {
     "name": "stdout",
     "output_type": "stream",
     "text": [
      "I'm boy\n",
      "Python is easy\n",
      "I'm boy, and Python is easy\n",
      "\n",
      "아마 이건 출력이 될거같네요.\n",
      "아마도?\n",
      "\n"
     ]
    }
   ],
   "source": [
    "text=  \"I'm boy\"\n",
    "text1 = \"Python is easy\"\n",
    "text2 = '''I'm boy, and Python is easy'''\n",
    "'''이건 과연 출력이될까'''\n",
    "'''\n",
    "이건?\n",
    "이건?\n",
    "이건?\n",
    "'''\n",
    "text3 = '''\n",
    "아마 이건 출력이 될거같네요.\n",
    "아마도?\n",
    "'''\n",
    "\n",
    "print(text)\n",
    "print(text1)\n",
    "print(text2)\n",
    "print(text3)"
   ]
  }
 ],
 "metadata": {
  "kernelspec": {
   "display_name": "Python 3.9.13 64-bit (microsoft store)",
   "language": "python",
   "name": "python3"
  },
  "language_info": {
   "codemirror_mode": {
    "name": "ipython",
    "version": 3
   },
   "file_extension": ".py",
   "mimetype": "text/x-python",
   "name": "python",
   "nbconvert_exporter": "python",
   "pygments_lexer": "ipython3",
   "version": "3.9.13"
  },
  "orig_nbformat": 4,
  "vscode": {
   "interpreter": {
    "hash": "fe1e694356d5468b6f67c2c1639b63f4f1e0d1bc267667b377dcc5f708daae64"
   }
  }
 },
 "nbformat": 4,
 "nbformat_minor": 2
}
