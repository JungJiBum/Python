{
 "cells": [
  {
   "cell_type": "code",
   "execution_count": 1,
   "metadata": {},
   "outputs": [],
   "source": [
    "s1=[\"a\",\"b\",\"c\"]\n",
    "s2=[\"com\",\"b\",\"d\",\"p\",\"c\"]"
   ]
  },
  {
   "cell_type": "code",
   "execution_count": 2,
   "metadata": {},
   "outputs": [],
   "source": [
    "def solution(s1,s2):\n",
    "    return len(set(s1).intersection(s2))"
   ]
  },
  {
   "cell_type": "code",
   "execution_count": 3,
   "metadata": {},
   "outputs": [
    {
     "data": {
      "text/plain": [
       "2"
      ]
     },
     "execution_count": 3,
     "metadata": {},
     "output_type": "execute_result"
    }
   ],
   "source": [
    "solution(s1,s2)"
   ]
  },
  {
   "cell_type": "code",
   "execution_count": 16,
   "metadata": {},
   "outputs": [
    {
     "name": "stdout",
     "output_type": "stream",
     "text": [
      "{'a', 'b', 'c'}\n",
      "{'com', 'b', 'c', 'p', 'd'}\n",
      "{'b', 'c'}\n",
      "{'b', 'c'}\n"
     ]
    }
   ],
   "source": [
    "print(set(s1))\n",
    "print(set(s2))\n",
    "print(set(s1).intersection(s2))\n",
    "print(set(s2).intersection(s1))"
   ]
  },
  {
   "cell_type": "code",
   "execution_count": 26,
   "metadata": {},
   "outputs": [
    {
     "name": "stdout",
     "output_type": "stream",
     "text": [
      "12392 <class 'str'>\n"
     ]
    }
   ],
   "source": [
    "import re\n",
    "str=\"hi12392\"\n",
    "# numbers=re.findall(r'\\d',str)\n",
    "numbers=re.sub(r'[^0-9]','',str)\n",
    "print(numbers,type(numbers))\n"
   ]
  },
  {
   "cell_type": "code",
   "execution_count": 1,
   "metadata": {},
   "outputs": [
    {
     "name": "stdout",
     "output_type": "stream",
     "text": [
      "0 a\n",
      "1 b\n",
      "2 c\n",
      "3 d\n",
      "4 e\n",
      "5 f\n",
      "6 g\n",
      "7 h\n",
      "8 i\n",
      "9 j\n",
      "10 k\n",
      "11 l\n",
      "12 m\n",
      "13 n\n",
      "14 o\n"
     ]
    }
   ],
   "source": [
    "ls = ['a','b','c','d','e','f','g','h','i','j','k','l','m','n','o']\n",
    "\n",
    "for i, data in enumerate(ls):\n",
    "    print(i, data)"
   ]
  },
  {
   "cell_type": "code",
   "execution_count": 1,
   "metadata": {},
   "outputs": [],
   "source": [
    "def fn(a):\n",
    "    return a\n",
    "\n",
    "def fn1(a :int) -> bool:\n",
    "    return a"
   ]
  },
  {
   "cell_type": "code",
   "execution_count": 2,
   "metadata": {},
   "outputs": [
    {
     "ename": "NameError",
     "evalue": "name 'original' is not defined",
     "output_type": "error",
     "traceback": [
      "\u001b[1;31m---------------------------------------------------------------------------\u001b[0m",
      "\u001b[1;31mNameError\u001b[0m                                 Traceback (most recent call last)",
      "\u001b[1;32mc:\\Users\\tec\\Desktop\\python\\Python\\test.ipynb 셀 8\u001b[0m in \u001b[0;36m<cell line: 1>\u001b[1;34m()\u001b[0m\n\u001b[1;32m----> <a href='vscode-notebook-cell:/c%3A/Users/tec/Desktop/python/Python/test.ipynb#X10sZmlsZQ%3D%3D?line=0'>1</a>\u001b[0m a \u001b[39m=\u001b[39m {k:v \u001b[39mfor\u001b[39;00m k,v \u001b[39min\u001b[39;00m original\u001b[39m.\u001b[39mitems()}\n",
      "\u001b[1;31mNameError\u001b[0m: name 'original' is not defined"
     ]
    }
   ],
   "source": [
    "a = {k:v for k,v in original.items()}"
   ]
  },
  {
   "cell_type": "code",
   "execution_count": 5,
   "metadata": {},
   "outputs": [],
   "source": [
    "a = [i for i in range(10000)]\n",
    "b = range(10000)"
   ]
  },
  {
   "cell_type": "code",
   "execution_count": 10,
   "metadata": {},
   "outputs": [
    {
     "name": "stdout",
     "output_type": "stream",
     "text": [
      "85176\n",
      "48\n"
     ]
    }
   ],
   "source": [
    "print(sys.getsizeof(a))\n",
    "print(sys.getsizeof(b))\n"
   ]
  },
  {
   "cell_type": "code",
   "execution_count": 31,
   "metadata": {},
   "outputs": [
    {
     "name": "stdout",
     "output_type": "stream",
     "text": [
      "873211\n"
     ]
    }
   ],
   "source": [
    "def solution(n):\n",
    "    answer = str(n)\n",
    "    a = list(answer)\n",
    "    a.sort(reverse=True)\n",
    "    a = \"\".join(a)\n",
    "    \n",
    "    return a\n",
    "    \n",
    "\n",
    "\n",
    "\n",
    "\n",
    "n = 118372\n",
    "print(solution(n))"
   ]
  },
  {
   "cell_type": "code",
   "execution_count": 34,
   "metadata": {},
   "outputs": [
    {
     "name": "stdout",
     "output_type": "stream",
     "text": [
      "3\n",
      "11\n"
     ]
    }
   ],
   "source": [
    "def sol(n):\n",
    "    t=1\n",
    "    while True:\n",
    "        if n % t ==1:\n",
    "            print(t)\n",
    "            break\n",
    "        t+=1\n",
    "\n",
    "sol(10)\n",
    "sol(12)"
   ]
  },
  {
   "cell_type": "markdown",
   "metadata": {},
   "source": []
  },
  {
   "cell_type": "code",
   "execution_count": 1,
   "metadata": {},
   "outputs": [
    {
     "name": "stdout",
     "output_type": "stream",
     "text": [
      "1~ 5까지 합은 15\n"
     ]
    }
   ],
   "source": [
    "def add(num):\n",
    "    sum=0\n",
    "    for i in range(1, num+1,1):\n",
    "        sum = sum+i\n",
    "    return sum\n",
    "\n",
    "num = int(input())\n",
    "res = add(num)\n",
    "print(\"1~ {}까지 합은 {}\".format(num,res))"
   ]
  },
  {
   "cell_type": "code",
   "execution_count": 3,
   "metadata": {},
   "outputs": [
    {
     "name": "stdout",
     "output_type": "stream",
     "text": [
      "I'm boy\n",
      "Python is easy\n",
      "I'm boy, and Python is easy\n",
      "\n",
      "아마 이건 출력이 될거같네요.\n",
      "아마도?\n",
      "\n"
     ]
    }
   ],
   "source": [
    "text=  \"I'm boy\"\n",
    "text1 = \"Python is easy\"\n",
    "text2 = '''I'm boy, and Python is easy'''\n",
    "'''이건 과연 출력이될까'''\n",
    "'''\n",
    "이건?\n",
    "이건?\n",
    "이건?\n",
    "'''\n",
    "text3 = '''\n",
    "아마 이건 출력이 될거같네요.\n",
    "아마도?\n",
    "'''\n",
    "\n",
    "print(text)\n",
    "print(text1)\n",
    "print(text2)\n",
    "print(text3)"
   ]
  },
  {
   "cell_type": "code",
   "execution_count": 1,
   "metadata": {},
   "outputs": [
    {
     "name": "stdout",
     "output_type": "stream",
     "text": [
      "0 ls\n",
      "1 df\n",
      "2 hostname\n"
     ]
    }
   ],
   "source": [
    "cmd1 = \"ls\"\n",
    "cmd2 = \"df\"\n",
    "cmd3 = \"hostname\"\n",
    "cmds = [cmd1,cmd2,cmd3]\n",
    "\n",
    "for i , command in enumerate(cmds):\n",
    "    print(i, command)"
   ]
  },
  {
   "cell_type": "code",
   "execution_count": 7,
   "metadata": {},
   "outputs": [
    {
     "data": {
      "text/plain": [
       "3"
      ]
     },
     "execution_count": 7,
     "metadata": {},
     "output_type": "execute_result"
    }
   ],
   "source": [
    "#  피자 조각 2 ~ 12조각까지 원하는 조각수\n",
    "'''\n",
    "피지조각수 = slice\n",
    "피자먹는사람 수 = n\n",
    "ceil() -> 인자로 들어온 x의 올림 값을 반환 한다.\n",
    "ex )\n",
    "ceil(1.0) => 1\n",
    "ceil(1.1) => 2\n",
    "ceil(1.2) => 2\n",
    "ceil(1.5) => 2\n",
    "ceil(2.1) => 3\n",
    "ceil(-3.2) => -3\n",
    "'''\n",
    "import math\n",
    "\n",
    "slice = 4\n",
    "n = 12\n",
    "def sol(slice,n):\n",
    "    return math.ceil(n/slice)\n",
    "\n",
    "sol(4,12)\n"
   ]
  },
  {
   "cell_type": "code",
   "execution_count": 12,
   "metadata": {},
   "outputs": [
    {
     "name": "stdout",
     "output_type": "stream",
     "text": [
      "2\n",
      "1.4285714285714286\n"
     ]
    }
   ],
   "source": [
    "print(math.ceil(10/7))\n",
    "print(10/7)"
   ]
  },
  {
   "cell_type": "code",
   "execution_count": 6,
   "metadata": {},
   "outputs": [
    {
     "data": {
      "text/plain": [
       "3"
      ]
     },
     "execution_count": 6,
     "metadata": {},
     "output_type": "execute_result"
    }
   ],
   "source": [
    "def sol(slice,n):\n",
    "    return ((n-1) // slice) +1\n",
    "\n",
    "sol(slice,n)"
   ]
  },
  {
   "cell_type": "code",
   "execution_count": 16,
   "metadata": {},
   "outputs": [],
   "source": [
    "# n 사람 수\n",
    "n = 6\n",
    "\n",
    "def sol(n):\n",
    "    answer=0\n",
    "    return answer"
   ]
  },
  {
   "cell_type": "code",
   "execution_count": 21,
   "metadata": {},
   "outputs": [
    {
     "name": "stdout",
     "output_type": "stream",
     "text": [
      "6 6\n",
      "12 2\n",
      "18 8\n",
      "24 4\n"
     ]
    }
   ],
   "source": [
    "n = 10\n",
    "pizza = 6\n",
    "while pizza % n != 0:\n",
    "    print(pizza, pizza%n)\n",
    "    pizza+=6\n",
    "\n",
    "'''\n",
    "\n",
    "import math\n",
    "\n",
    "def solution(n):\n",
    "    return (n * 6) // math.gcd(n, 6) // 6\n",
    "'''\n"
   ]
  },
  {
   "cell_type": "code",
   "execution_count": null,
   "metadata": {},
   "outputs": [],
   "source": [
    "# 옷가게 할인받기.\n",
    "def solution(price):\n",
    "    discount=0\n",
    "    if price >= 100000 and price < 300000:\n",
    "        discount = price * 0.05\n",
    "        answer = price - discount\n",
    "        \n",
    "    elif  price >= 300000 and price < 500000:\n",
    "        discount = price * 0.1\n",
    "        answer = price - discount\n",
    "        \n",
    "    elif price >= 500000:\n",
    "        discount = price * 0.2\n",
    "        answer = price - discount\n",
    "    \n",
    "    else:\n",
    "        answer = price\n",
    "    return answer\n",
    "'''\n",
    "내가 찾아쓴거\n",
    "def solution(price):\n",
    "    if price >= 500000:\n",
    "        return int(price * 0.8)\n",
    "    if price >= 300000:\n",
    "        return int(price * 0.9)\n",
    "    if price >= 100000:\n",
    "        return int(price * 0.95)\n",
    "    return int(price)\n",
    "'''\n",
    "'''\n",
    "def solution(price):\n",
    "    discount_rates = {500000: 0.8, 300000: 0.9, 100000: 0.95, 0: 1}\n",
    "    for discount_price, discount_rate in discount_rates.items():\n",
    "        if price >= discount_price:\n",
    "            return int(price * discount_rate)\n",
    "'''"
   ]
  },
  {
   "cell_type": "code",
   "execution_count": 31,
   "metadata": {},
   "outputs": [],
   "source": [
    "# 타입 힌팅(type hinting)\n",
    "num = 1 # type : int\n",
    "def repeat(message, times=2):\n",
    "    # type : (str, int) -> list\n",
    "    return [message] * times\n",
    "\n",
    "# 타입 어노테이션(type annotation)\n",
    "num: int = 1\n",
    "def repeat(message:str, times:int = 2) -> list:\n",
    "    return [message] * times\n",
    "\n",
    "# 변수 타입 어노테이션(annotation) -> 주석 \n",
    "name : str = \"BOB\"\n",
    "age : int = 29\n",
    "email: list = [\"bob@google.com\",'bob@naver.com']\n",
    "address: dict = {\n",
    "    \"street\" : \"Jung Jo Ro 111\",\n",
    "    \"city\" : \"Suwon\",\n",
    "}\n",
    "\n",
    "# 함수 타입 어노테이션\n",
    "#def 함수명(<필수 인자>: <인자 타입>, <선택 인자>: <인자타입> = <기본값>) -> <반환 타입>:\n",
    "def change(num:int) -> str:\n",
    "    return str(num)\n",
    "\n",
    "def plus(num1 : int, num2: float = 3.5) -> float:\n",
    "    return num1 + num2\n",
    "\n",
    "def greet(name : str) -> None:\n",
    "    return \"Hi\" + name\n"
   ]
  }
 ],
 "metadata": {
  "kernelspec": {
   "display_name": "Python 3.10.3 64-bit",
   "language": "python",
   "name": "python3"
  },
  "language_info": {
   "codemirror_mode": {
    "name": "ipython",
    "version": 3
   },
   "file_extension": ".py",
   "mimetype": "text/x-python",
   "name": "python",
   "nbconvert_exporter": "python",
   "pygments_lexer": "ipython3",
   "version": "3.10.3"
  },
  "orig_nbformat": 4,
  "vscode": {
   "interpreter": {
    "hash": "38b97b5e4081b89d365af18cf2408a2f23fda591f39aba7cd12ad3eafafdc223"
   }
  }
 },
 "nbformat": 4,
 "nbformat_minor": 2
}
