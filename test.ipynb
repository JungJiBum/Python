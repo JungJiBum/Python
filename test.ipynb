{
 "cells": [
  {
   "cell_type": "code",
   "execution_count": 1,
   "metadata": {},
   "outputs": [],
   "source": [
    "s1=[\"a\",\"b\",\"c\"]\n",
    "s2=[\"com\",\"b\",\"d\",\"p\",\"c\"]"
   ]
  },
  {
   "cell_type": "code",
   "execution_count": 2,
   "metadata": {},
   "outputs": [],
   "source": [
    "def solution(s1,s2):\n",
    "    return len(set(s1).intersection(s2))"
   ]
  },
  {
   "cell_type": "code",
   "execution_count": 3,
   "metadata": {},
   "outputs": [
    {
     "data": {
      "text/plain": [
       "2"
      ]
     },
     "execution_count": 3,
     "metadata": {},
     "output_type": "execute_result"
    }
   ],
   "source": [
    "solution(s1,s2)"
   ]
  },
  {
   "cell_type": "code",
   "execution_count": 16,
   "metadata": {},
   "outputs": [
    {
     "name": "stdout",
     "output_type": "stream",
     "text": [
      "{'a', 'b', 'c'}\n",
      "{'com', 'b', 'c', 'p', 'd'}\n",
      "{'b', 'c'}\n",
      "{'b', 'c'}\n"
     ]
    }
   ],
   "source": [
    "print(set(s1))\n",
    "print(set(s2))\n",
    "print(set(s1).intersection(s2))\n",
    "print(set(s2).intersection(s1))"
   ]
  },
  {
   "cell_type": "code",
   "execution_count": 26,
   "metadata": {},
   "outputs": [
    {
     "name": "stdout",
     "output_type": "stream",
     "text": [
      "12392 <class 'str'>\n"
     ]
    }
   ],
   "source": [
    "import re\n",
    "str=\"hi12392\"\n",
    "# numbers=re.findall(r'\\d',str)\n",
    "numbers=re.sub(r'[^0-9]','',str)\n",
    "print(numbers,type(numbers))\n"
   ]
  },
  {
   "cell_type": "code",
   "execution_count": 1,
   "metadata": {},
   "outputs": [
    {
     "name": "stdout",
     "output_type": "stream",
     "text": [
      "0 a\n",
      "1 b\n",
      "2 c\n",
      "3 d\n",
      "4 e\n",
      "5 f\n",
      "6 g\n",
      "7 h\n",
      "8 i\n",
      "9 j\n",
      "10 k\n",
      "11 l\n",
      "12 m\n",
      "13 n\n",
      "14 o\n"
     ]
    }
   ],
   "source": [
    "ls = ['a','b','c','d','e','f','g','h','i','j','k','l','m','n','o']\n",
    "\n",
    "for i, data in enumerate(ls):\n",
    "    print(i, data)"
   ]
  },
  {
   "cell_type": "code",
   "execution_count": 1,
   "metadata": {},
   "outputs": [],
   "source": [
    "def fn(a):\n",
    "    return a\n",
    "\n",
    "def fn1(a :int) -> bool:\n",
    "    return a"
   ]
  },
  {
   "cell_type": "code",
   "execution_count": 2,
   "metadata": {},
   "outputs": [
    {
     "ename": "NameError",
     "evalue": "name 'original' is not defined",
     "output_type": "error",
     "traceback": [
      "\u001b[1;31m---------------------------------------------------------------------------\u001b[0m",
      "\u001b[1;31mNameError\u001b[0m                                 Traceback (most recent call last)",
      "\u001b[1;32mc:\\Users\\tec\\Desktop\\python\\Python\\test.ipynb 셀 8\u001b[0m in \u001b[0;36m<cell line: 1>\u001b[1;34m()\u001b[0m\n\u001b[1;32m----> <a href='vscode-notebook-cell:/c%3A/Users/tec/Desktop/python/Python/test.ipynb#X10sZmlsZQ%3D%3D?line=0'>1</a>\u001b[0m a \u001b[39m=\u001b[39m {k:v \u001b[39mfor\u001b[39;00m k,v \u001b[39min\u001b[39;00m original\u001b[39m.\u001b[39mitems()}\n",
      "\u001b[1;31mNameError\u001b[0m: name 'original' is not defined"
     ]
    }
   ],
   "source": [
    "a = {k:v for k,v in original.items()}"
   ]
  },
  {
   "cell_type": "code",
   "execution_count": 5,
   "metadata": {},
   "outputs": [],
   "source": [
    "a = [i for i in range(10000)]\n",
    "b = range(10000)"
   ]
  },
  {
   "cell_type": "code",
   "execution_count": 10,
   "metadata": {},
   "outputs": [
    {
     "name": "stdout",
     "output_type": "stream",
     "text": [
      "85176\n",
      "48\n"
     ]
    }
   ],
   "source": [
    "print(sys.getsizeof(a))\n",
    "print(sys.getsizeof(b))\n"
   ]
  },
  {
   "cell_type": "code",
   "execution_count": 31,
   "metadata": {},
   "outputs": [
    {
     "name": "stdout",
     "output_type": "stream",
     "text": [
      "873211\n"
     ]
    }
   ],
   "source": [
    "def solution(n):\n",
    "    answer = str(n)\n",
    "    a = list(answer)\n",
    "    a.sort(reverse=True)\n",
    "    a = \"\".join(a)\n",
    "    \n",
    "    return a\n",
    "    \n",
    "\n",
    "\n",
    "\n",
    "\n",
    "n = 118372\n",
    "print(solution(n))"
   ]
  },
  {
   "cell_type": "code",
   "execution_count": 34,
   "metadata": {},
   "outputs": [
    {
     "name": "stdout",
     "output_type": "stream",
     "text": [
      "3\n",
      "11\n"
     ]
    }
   ],
   "source": [
    "def sol(n):\n",
    "    t=1\n",
    "    while True:\n",
    "        if n % t ==1:\n",
    "            print(t)\n",
    "            break\n",
    "        t+=1\n",
    "\n",
    "sol(10)\n",
    "sol(12)"
   ]
  },
  {
   "cell_type": "markdown",
   "metadata": {},
   "source": []
  },
  {
   "cell_type": "code",
   "execution_count": 1,
   "metadata": {},
   "outputs": [
    {
     "name": "stdout",
     "output_type": "stream",
     "text": [
      "1~ 5까지 합은 15\n"
     ]
    }
   ],
   "source": [
    "def add(num):\n",
    "    sum=0\n",
    "    for i in range(1, num+1,1):\n",
    "        sum = sum+i\n",
    "    return sum\n",
    "\n",
    "num = int(input())\n",
    "res = add(num)\n",
    "print(\"1~ {}까지 합은 {}\".format(num,res))"
   ]
  },
  {
   "cell_type": "code",
   "execution_count": 1,
   "metadata": {},
   "outputs": [
    {
     "name": "stdout",
     "output_type": "stream",
     "text": [
      "70\n"
     ]
    }
   ],
   "source": [
    "def add(a,b,c):\n",
    "    return a+b*c\n",
    "\n",
    "print(add(a=20,c=5,b=10))"
   ]
  },
  {
   "cell_type": "code",
   "execution_count": 2,
   "metadata": {},
   "outputs": [
    {
     "name": "stdout",
     "output_type": "stream",
     "text": [
      "6\n",
      "15\n",
      "55\n"
     ]
    }
   ],
   "source": [
    "def add(*args):\n",
    "    result=0\n",
    "    for i in args:\n",
    "        result +=i\n",
    "    print(result)\n",
    "\n",
    "\n",
    "add(1,2,3)\n",
    "add(1,2,3,4,5)\n",
    "add(1,2,3,4,5,6,7,8,9,10)"
   ]
  },
  {
   "cell_type": "code",
   "execution_count": 17,
   "metadata": {},
   "outputs": [
    {
     "name": "stdout",
     "output_type": "stream",
     "text": [
      "3\n"
     ]
    }
   ],
   "source": [
    "def add(n1,n2):\n",
    "    print(n1+n2)\n",
    "\n",
    "\n",
    "add(1,2)\n",
    "# add(1,2,3)\n"
   ]
  },
  {
   "cell_type": "code",
   "execution_count": 19,
   "metadata": {},
   "outputs": [],
   "source": [
    "for i in range(2,10):\n",
    "    for j in range(1,10):\n",
    "        # print(f\"{i} * {j} = {i*j}\")\n",
    "        pass"
   ]
  },
  {
   "cell_type": "code",
   "execution_count": 20,
   "metadata": {},
   "outputs": [],
   "source": [
    "ls1=[1,2,3,4,5]\n",
    "ls2=['가','나','다','라','마']\n",
    "# b = dict(ls1)\n",
    "# print(b)"
   ]
  },
  {
   "cell_type": "code",
   "execution_count": 16,
   "metadata": {},
   "outputs": [],
   "source": [
    "from typing import Dict"
   ]
  },
  {
   "cell_type": "code",
   "execution_count": 22,
   "metadata": {},
   "outputs": [
    {
     "name": "stdout",
     "output_type": "stream",
     "text": [
      "(1, 2, 3, 4, 5, 'a', 'b')\n",
      "<class 'tuple'>\n"
     ]
    }
   ],
   "source": [
    "def func(*args): # 파라미터앞에 * 을 붙여주면 위치인자로 보낸 모든 객체들을 하나의 객체로 관리\n",
    "    print(args)\n",
    "    print(type(args))\n",
    "\n",
    "func(1,2,3,4,5,'a','b') "
   ]
  },
  {
   "cell_type": "code",
   "execution_count": 23,
   "metadata": {},
   "outputs": [
    {
     "name": "stdout",
     "output_type": "stream",
     "text": [
      "6\n",
      "21\n"
     ]
    }
   ],
   "source": [
    "def sum_all(*args):\n",
    "    res=0\n",
    "    for i in args:\n",
    "        res += i\n",
    "    return res\n",
    "\n",
    "print(sum_all(1,2,3))\n",
    "print(sum_all(1,2,3,4,5,6))"
   ]
  },
  {
   "cell_type": "code",
   "execution_count": 29,
   "metadata": {},
   "outputs": [
    {
     "name": "stdout",
     "output_type": "stream",
     "text": [
      "a =  A\n",
      "b =  B\n",
      "C\n",
      "D\n",
      "E\n"
     ]
    }
   ],
   "source": [
    "def test(a,b,*c):\n",
    "    print(\"a = \",a)\n",
    "    print(\"b = \",b)\n",
    "    if c:\n",
    "        for i in c:\n",
    "            print(i)\n",
    "    \n",
    "test(\"A\",\"B\",\"C\",\"D\",\"E\")"
   ]
  },
  {
   "cell_type": "code",
   "execution_count": 30,
   "metadata": {},
   "outputs": [
    {
     "name": "stdout",
     "output_type": "stream",
     "text": [
      "{'a': 1, 'b': 2, 'c': 3}\n",
      "<class 'dict'>\n"
     ]
    }
   ],
   "source": [
    "def kwpacking(**kwargs):\n",
    "    print(kwargs)\n",
    "    print(type(kwargs))\n",
    "\n",
    "kwpacking(a=1,b=2,c=3)"
   ]
  },
  {
   "cell_type": "code",
   "execution_count": 39,
   "metadata": {},
   "outputs": [
    {
     "data": {
      "text/plain": [
       "6"
      ]
     },
     "execution_count": 39,
     "metadata": {},
     "output_type": "execute_result"
    }
   ],
   "source": [
    "def sum(a,b,c):\n",
    "    return a+b+c\n",
    "num=[1,2,3]\n",
    "# sum(num) error\n",
    "sum(*num)\n",
    "# sum(*[1,2,3,4]) TypeError: sum() takes 3 positional arguments but 4 were given"
   ]
  },
  {
   "cell_type": "code",
   "execution_count": null,
   "metadata": {},
   "outputs": [],
   "source": []
  }
 ],
 "metadata": {
  "kernelspec": {
   "display_name": "Python 3.10.3 64-bit",
   "language": "python",
   "name": "python3"
  },
  "language_info": {
   "codemirror_mode": {
    "name": "ipython",
    "version": 3
   },
   "file_extension": ".py",
   "mimetype": "text/x-python",
   "name": "python",
   "nbconvert_exporter": "python",
   "pygments_lexer": "ipython3",
   "version": "3.10.3"
  },
  "orig_nbformat": 4,
  "vscode": {
   "interpreter": {
    "hash": "38b97b5e4081b89d365af18cf2408a2f23fda591f39aba7cd12ad3eafafdc223"
   }
  }
 },
 "nbformat": 4,
 "nbformat_minor": 2
}
